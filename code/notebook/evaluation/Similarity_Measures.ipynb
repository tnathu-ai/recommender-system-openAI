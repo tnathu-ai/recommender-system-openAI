{
 "cells": [
  {
   "cell_type": "code",
   "execution_count": 1,
   "metadata": {},
   "outputs": [
    {
     "name": "stdout",
     "output_type": "stream",
     "text": [
      "Intel MKL WARNING: Support of Intel(R) Streaming SIMD Extensions 4.2 (Intel(R) SSE4.2) enabled only processors has been deprecated. Intel oneAPI Math Kernel Library 2025.0 will require Intel(R) Advanced Vector Extensions (Intel(R) AVX) instructions.\n",
      "Intel MKL WARNING: Support of Intel(R) Streaming SIMD Extensions 4.2 (Intel(R) SSE4.2) enabled only processors has been deprecated. Intel oneAPI Math Kernel Library 2025.0 will require Intel(R) Advanced Vector Extensions (Intel(R) AVX) instructions.\n"
     ]
    }
   ],
   "source": [
    "import numpy as np\n",
    "import pandas as pd\n",
    "from sklearn.neighbors import NearestNeighbors\n",
    "from scipy.sparse import csr_matrix\n",
    "from tenacity import retry, stop_after_attempt, wait_random_exponential\n",
    "import random\n",
    "\n",
    "# Remove: Create interaction matrix with a lower threshold\n",
    "def create_interaction_matrix(df, user_col, item_col, rating_col, threshold=1):\n",
    "    interactions = df.groupby([user_col, item_col])[rating_col].sum().unstack().reset_index().fillna(0).set_index(user_col)\n",
    "    interactions = interactions.applymap(lambda x: 1 if x >= threshold else 0)\n",
    "    \n",
    "    user_mapper = dict(zip(np.unique(df[user_col]), list(range(df[user_col].nunique()))))\n",
    "    item_mapper = dict(zip(np.unique(df[item_col]), list(range(df[item_col].nunique()))))\n",
    "\n",
    "    user_inv_mapper = dict(zip(list(range(df[user_col].nunique())), np.unique(df[user_col])))\n",
    "    item_inv_mapper = dict(zip(list(range(df[item_col].nunique())), np.unique(df[item_col])))\n",
    "\n",
    "    return csr_matrix(interactions.values), user_mapper, item_mapper, user_inv_mapper, item_inv_mapper\n",
    "\n",
    "\n",
    "\n",
    "\n",
    "def pearson_correlation(interaction_matrix):\n",
    "    dense_matrix = interaction_matrix.toarray()\n",
    "    n_users = dense_matrix.shape[0]\n",
    "    pearson_corr_matrix = np.zeros((n_users, n_users))\n",
    "    EPSILON = 1e-9\n",
    "\n",
    "    for i in range(n_users):\n",
    "        for j in range(n_users):\n",
    "            user_i_vec = dense_matrix[i, :]\n",
    "            user_j_vec = dense_matrix[j, :]\n",
    "\n",
    "            mask_i = user_i_vec > 0\n",
    "            mask_j = user_j_vec > 0\n",
    "\n",
    "            corrated_index = np.intersect1d(np.where(mask_i)[0], np.where(mask_j)[0])\n",
    "\n",
    "            if len(corrated_index) == 0:\n",
    "                continue\n",
    "\n",
    "            mean_user_i = np.mean(user_i_vec[corrated_index])\n",
    "            mean_user_j = np.mean(user_j_vec[corrated_index])\n",
    "\n",
    "            user_i_sub_mean = user_i_vec[corrated_index] - mean_user_i\n",
    "            user_j_sub_mean = user_j_vec[corrated_index] - mean_user_j\n",
    "\n",
    "            r_ui_sub_r_i_sq = np.square(user_i_sub_mean)\n",
    "            r_uj_sub_r_j_sq = np.square(user_j_sub_mean)\n",
    "\n",
    "            r_ui_sum_sqrt = np.sqrt(np.sum(r_ui_sub_r_i_sq))\n",
    "            r_uj_sum_sqrt = np.sqrt(np.sum(r_uj_sub_r_j_sq))\n",
    "\n",
    "            sim = np.sum(user_i_sub_mean * user_j_sub_mean) / (r_ui_sum_sqrt * r_uj_sum_sqrt + EPSILON)\n",
    "\n",
    "            pearson_corr_matrix[i, j] = sim\n",
    "\n",
    "            # Print statements for debugging\n",
    "            print(f\"User {i} and User {j} Correlation:\")\n",
    "            print(f\"Corrated indices: {corrated_index}\")\n",
    "            print(f\"Mean ratings (User {i}, User {j}): {mean_user_i}, {mean_user_j}\")\n",
    "            print(f\"Pearson correlation: {sim}\\n\")\n",
    "\n",
    "    return pearson_corr_matrix\n"
   ]
  },
  {
   "cell_type": "markdown",
   "metadata": {},
   "source": [
    "# Item-Item Pearson Correlation Coefficient (PCC) Matrix:\n",
    "+ Definition: The item-item PCC matrix measures the linear correlation between pairs of items based on their ratings across different users.\n",
    "\n",
    "+ Focus: This matrix focuses on the relationships between items. For example, if two items tend to be rated similarly by users, they would have a high positive correlation in this matrix.\n",
    "\n",
    "+ Dimensionality: The dimensions of this matrix are items-by-items. If there are N items, the matrix will be N x N.\n",
    "\n",
    "+ Use Case: It is used in item-based collaborative filtering. The core idea is that if a user likes an item, they are more likely to like items that are similar to it.\n",
    "\n",
    "+ Advantages: It tends to be more stable over time because the item features don't change as rapidly as user preferences. Works better when the number of users is much larger than the number of items.\n",
    "\n",
    "+ Challenges: Can be computationally intensive if the number of items is very large. May not work as well when there are many unique items with few ratings.\n",
    "\n",
    "# User-User Pearson Correlation Coefficient (PCC) Matrix:\n",
    "+ Definition: The user-user PCC matrix measures the linear correlation between pairs of users based on their ratings across different items.\n",
    "\n",
    "+ Focus: This matrix focuses on the relationships between users. For example, if two users tend to rate items similarly, they would have a high positive correlation in this matrix.\n",
    "\n",
    "+ Dimensionality: The dimensions of this matrix are users-by-users. If there are M users, the matrix will be M x M.\n",
    " \n",
    "+ Use Case: It is used in user-based collaborative filtering. The core idea is to find users who are similar to the target user and recommend items that these similar users have liked.\n",
    "\n",
    "+ Advantages: More intuitive as it reflects the idea that similar users will like similar items. Can be more effective when the number of items is much larger than the number of users.\n",
    "\n",
    "+ Challenges: Can be less stable over time as user preferences may change. Scalability can be an issue with a very large user base.\n"
   ]
  },
  {
   "cell_type": "code",
   "execution_count": 14,
   "metadata": {},
   "outputs": [
    {
     "data": {
      "text/html": [
       "<div>\n",
       "<style scoped>\n",
       "    .dataframe tbody tr th:only-of-type {\n",
       "        vertical-align: middle;\n",
       "    }\n",
       "\n",
       "    .dataframe tbody tr th {\n",
       "        vertical-align: top;\n",
       "    }\n",
       "\n",
       "    .dataframe thead th {\n",
       "        text-align: right;\n",
       "    }\n",
       "</style>\n",
       "<table border=\"1\" class=\"dataframe\">\n",
       "  <thead>\n",
       "    <tr style=\"text-align: right;\">\n",
       "      <th></th>\n",
       "      <th>user_id</th>\n",
       "      <th>item_id</th>\n",
       "      <th>rating</th>\n",
       "    </tr>\n",
       "  </thead>\n",
       "  <tbody>\n",
       "    <tr>\n",
       "      <th>0</th>\n",
       "      <td>1</td>\n",
       "      <td>1</td>\n",
       "      <td>5</td>\n",
       "    </tr>\n",
       "    <tr>\n",
       "      <th>1</th>\n",
       "      <td>1</td>\n",
       "      <td>2</td>\n",
       "      <td>3</td>\n",
       "    </tr>\n",
       "    <tr>\n",
       "      <th>2</th>\n",
       "      <td>2</td>\n",
       "      <td>2</td>\n",
       "      <td>4</td>\n",
       "    </tr>\n",
       "    <tr>\n",
       "      <th>3</th>\n",
       "      <td>2</td>\n",
       "      <td>3</td>\n",
       "      <td>5</td>\n",
       "    </tr>\n",
       "    <tr>\n",
       "      <th>4</th>\n",
       "      <td>3</td>\n",
       "      <td>1</td>\n",
       "      <td>1</td>\n",
       "    </tr>\n",
       "    <tr>\n",
       "      <th>5</th>\n",
       "      <td>3</td>\n",
       "      <td>2</td>\n",
       "      <td>5</td>\n",
       "    </tr>\n",
       "    <tr>\n",
       "      <th>6</th>\n",
       "      <td>3</td>\n",
       "      <td>3</td>\n",
       "      <td>4</td>\n",
       "    </tr>\n",
       "  </tbody>\n",
       "</table>\n",
       "</div>"
      ],
      "text/plain": [
       "   user_id  item_id  rating\n",
       "0        1        1       5\n",
       "1        1        2       3\n",
       "2        2        2       4\n",
       "3        2        3       5\n",
       "4        3        1       1\n",
       "5        3        2       5\n",
       "6        3        3       4"
      ]
     },
     "execution_count": 14,
     "metadata": {},
     "output_type": "execute_result"
    }
   ],
   "source": [
    "\n",
    "# Example data\n",
    "data = {\n",
    "    'user_id': [1, 1, 2, 2, 3, 3, 3],\n",
    "    'item_id': [1, 2, 2, 3, 1, 2, 3],\n",
    "    'rating': [5, 3, 4, 5, 1, 5, 4]\n",
    "}\n",
    "\n",
    "df = pd.DataFrame(data)\n",
    "\n",
    "df\n"
   ]
  },
  {
   "cell_type": "code",
   "execution_count": 15,
   "metadata": {},
   "outputs": [
    {
     "name": "stdout",
     "output_type": "stream",
     "text": [
      "User 0 and User 0 Correlation:\n",
      "Corrated indices: [0 1]\n",
      "Mean ratings (User 0, User 0): 1.0, 1.0\n",
      "Pearson correlation: 0.0\n",
      "\n",
      "User 0 and User 1 Correlation:\n",
      "Corrated indices: [1]\n",
      "Mean ratings (User 0, User 1): 1.0, 1.0\n",
      "Pearson correlation: 0.0\n",
      "\n",
      "User 0 and User 2 Correlation:\n",
      "Corrated indices: [0 1]\n",
      "Mean ratings (User 0, User 2): 1.0, 1.0\n",
      "Pearson correlation: 0.0\n",
      "\n",
      "User 1 and User 0 Correlation:\n",
      "Corrated indices: [1]\n",
      "Mean ratings (User 1, User 0): 1.0, 1.0\n",
      "Pearson correlation: 0.0\n",
      "\n",
      "User 1 and User 1 Correlation:\n",
      "Corrated indices: [1 2]\n",
      "Mean ratings (User 1, User 1): 1.0, 1.0\n",
      "Pearson correlation: 0.0\n",
      "\n",
      "User 1 and User 2 Correlation:\n",
      "Corrated indices: [1 2]\n",
      "Mean ratings (User 1, User 2): 1.0, 1.0\n",
      "Pearson correlation: 0.0\n",
      "\n",
      "User 2 and User 0 Correlation:\n",
      "Corrated indices: [0 1]\n",
      "Mean ratings (User 2, User 0): 1.0, 1.0\n",
      "Pearson correlation: 0.0\n",
      "\n",
      "User 2 and User 1 Correlation:\n",
      "Corrated indices: [1 2]\n",
      "Mean ratings (User 2, User 1): 1.0, 1.0\n",
      "Pearson correlation: 0.0\n",
      "\n",
      "User 2 and User 2 Correlation:\n",
      "Corrated indices: [0 1 2]\n",
      "Mean ratings (User 2, User 2): 1.0, 1.0\n",
      "Pearson correlation: 0.0\n",
      "\n"
     ]
    }
   ],
   "source": [
    "# Use the create_interaction_matrix function to create the interaction matrix\n",
    "interaction_matrix, user_mapper, item_mapper, user_inv_mapper, item_inv_mapper = create_interaction_matrix(df, 'user_id', 'item_id', 'rating')\n",
    "\n",
    "# Compute the Pearson Correlation Matrix\n",
    "pearson_corr_matrix = pearson_correlation(interaction_matrix)"
   ]
  },
  {
   "cell_type": "code",
   "execution_count": 16,
   "metadata": {},
   "outputs": [
    {
     "data": {
      "image/png": "[encoded data removed]",
      "text/plain": [
       "<Figure size 640x480 with 2 Axes>"
      ]
     },
     "metadata": {},
     "output_type": "display_data"
    }
   ],
   "source": [
    "# plotting heat map\n",
    "import seaborn as sns\n",
    "import matplotlib.pyplot as plt\n",
    "\n",
    "sns.heatmap(pearson_corr_matrix, cmap='YlGnBu', linewidths=0.5, annot=True)\n",
    "# add title\n",
    "plt.title('Pearson Correlation Coefficient Matrix')\n",
    "# add x-axis label\n",
    "plt.xlabel('Item ID')\n",
    "# add y-axis label\n",
    "plt.ylabel('Item ID')\n",
    "plt.show()\n"
   ]
  },
  {
   "cell_type": "markdown",
   "metadata": {},
   "source": [
    "### The output from the Pearson correlation computation suggests a couple of issues or points of consideration:\n",
    "\n",
    "#### All Pearson Correlation Values are Zero:*\n",
    "\n",
    "In every case, the Pearson correlation value is 0.0. This is an unusual result, especially for comparisons of a user with themselves (e.g., \"User 0 and User 0\"). Typically, the correlation of a user with themselves should be 1, as they are perfectly correlated with their own behavior.\n",
    "\n",
    "#### Interaction Matrix Transformation:\n",
    "\n",
    "Given the description of our create_interaction_matrix function, it seems the interaction matrix is binary (1 if the user has interacted with the item, 0 otherwise). This binary nature might not be the best representation for computing Pearson correlation, which generally expects continuous or at least ordinal data. The binary nature might be causing the correlations to be zero, as the variance in such a dataset could be minimal, and the Pearson formula is sensitive to variance.\n",
    "\n",
    "#### Mean Ratings are Constant:\n",
    "\n",
    "The mean ratings for each user pair are always 1.0. This is likely because the interaction matrix is binary, and the calculation for the mean does not differentiate between items rated differently.\n",
    "\n",
    "#### Corrated Indices:\n",
    "\n",
    "The corrated indices (items rated by both users) seem to be correctly identified. However, the binary nature of the ratings means there's little variation in the ratings, leading to the Pearson correlation values being 0.\n",
    "\n",
    "### Suggested Actions:\n",
    "+ Review Data Transformation: Ensure that the data transformation process in create_interaction_matrix is appropriate. If we're working with actual ratings (like a 1-5 scale), we might not want to convert these to binary values.\n",
    "\n",
    "+ Review Pearson Correlation Implementation: Double-check the Pearson correlation formula, especially how it's applied to binary data. The formula might be behaving unexpectedly because of the nature of the data.\n",
    "\n",
    "+ Check Data Quality: Ensure that the input data itself is varied enough to produce meaningful correlations. If the data is too homogeneous (e.g., all users have rated all items similarly), the Pearson correlation might not be meaningful."
   ]
  },
  {
   "cell_type": "code",
   "execution_count": 17,
   "metadata": {},
   "outputs": [
    {
     "name": "stdout",
     "output_type": "stream",
     "text": [
      "User 0 and User 0 Correlation:\n",
      "Corrated indices: [0 1]\n",
      "Mean ratings (User 0, User 0): 4.0, 4.0\n",
      "Pearson correlation: 0.9999999994999997\n",
      "\n",
      "User 0 and User 1 Correlation:\n",
      "Corrated indices: [1]\n",
      "Mean ratings (User 0, User 1): 3.0, 4.0\n",
      "Pearson correlation: 0.0\n",
      "\n",
      "User 0 and User 2 Correlation:\n",
      "Corrated indices: [0 1]\n",
      "Mean ratings (User 0, User 2): 4.0, 3.0\n",
      "Pearson correlation: -0.9999999997499998\n",
      "\n",
      "User 1 and User 0 Correlation:\n",
      "Corrated indices: [1]\n",
      "Mean ratings (User 1, User 0): 4.0, 3.0\n",
      "Pearson correlation: 0.0\n",
      "\n",
      "User 1 and User 1 Correlation:\n",
      "Corrated indices: [1 2]\n",
      "Mean ratings (User 1, User 1): 4.5, 4.5\n",
      "Pearson correlation: 0.9999999979999998\n",
      "\n",
      "User 1 and User 2 Correlation:\n",
      "Corrated indices: [1 2]\n",
      "Mean ratings (User 1, User 2): 4.5, 4.5\n",
      "Pearson correlation: -0.9999999979999998\n",
      "\n",
      "User 2 and User 0 Correlation:\n",
      "Corrated indices: [0 1]\n",
      "Mean ratings (User 2, User 0): 3.0, 4.0\n",
      "Pearson correlation: -0.9999999997499998\n",
      "\n",
      "User 2 and User 1 Correlation:\n",
      "Corrated indices: [1 2]\n",
      "Mean ratings (User 2, User 1): 4.5, 4.5\n",
      "Pearson correlation: -0.9999999979999998\n",
      "\n",
      "User 2 and User 2 Correlation:\n",
      "Corrated indices: [0 1 2]\n",
      "Mean ratings (User 2, User 2): 3.3333333333333335, 3.3333333333333335\n",
      "Pearson correlation: 0.9999999998846154\n",
      "\n"
     ]
    },
    {
     "data": {
      "text/plain": [
       "array([[ 1.,  0., -1.],\n",
       "       [ 0.,  1., -1.],\n",
       "       [-1., -1.,  1.]])"
      ]
     },
     "execution_count": 17,
     "metadata": {},
     "output_type": "execute_result"
    }
   ],
   "source": [
    "# Create User-Item Interaction Matrix\n",
    "interaction_matrix = pd.pivot_table(df, index='user_id', columns='item_id', values='rating').fillna(0)\n",
    "csr_interaction_matrix = csr_matrix(interaction_matrix.values)\n",
    "\n",
    "# Calculate Pearson Correlation Coefficient Matrix\n",
    "pcc_matrix = pearson_correlation(csr_interaction_matrix)\n",
    "\n",
    "pcc_matrix"
   ]
  },
  {
   "cell_type": "code",
   "execution_count": 18,
   "metadata": {},
   "outputs": [
    {
     "data": {
      "text/plain": [
       "<3x3 sparse matrix of type '<class 'numpy.float64'>'\n",
       "\twith 7 stored elements in Compressed Sparse Row format>"
      ]
     },
     "execution_count": 18,
     "metadata": {},
     "output_type": "execute_result"
    }
   ],
   "source": [
    "csr_interaction_matrix"
   ]
  },
  {
   "cell_type": "code",
   "execution_count": 19,
   "metadata": {},
   "outputs": [
    {
     "data": {
      "text/plain": [
       "array([[ 1.,  0., -1.],\n",
       "       [ 0.,  1., -1.],\n",
       "       [-1., -1.,  1.]])"
      ]
     },
     "execution_count": 19,
     "metadata": {},
     "output_type": "execute_result"
    }
   ],
   "source": [
    "pcc_matrix"
   ]
  },
  {
   "cell_type": "code",
   "execution_count": 20,
   "metadata": {},
   "outputs": [
    {
     "data": {
      "text/html": [
       "<div>\n",
       "<style scoped>\n",
       "    .dataframe tbody tr th:only-of-type {\n",
       "        vertical-align: middle;\n",
       "    }\n",
       "\n",
       "    .dataframe tbody tr th {\n",
       "        vertical-align: top;\n",
       "    }\n",
       "\n",
       "    .dataframe thead th {\n",
       "        text-align: right;\n",
       "    }\n",
       "</style>\n",
       "<table border=\"1\" class=\"dataframe\">\n",
       "  <thead>\n",
       "    <tr style=\"text-align: right;\">\n",
       "      <th>item_id</th>\n",
       "      <th>1</th>\n",
       "      <th>2</th>\n",
       "      <th>3</th>\n",
       "    </tr>\n",
       "    <tr>\n",
       "      <th>user_id</th>\n",
       "      <th></th>\n",
       "      <th></th>\n",
       "      <th></th>\n",
       "    </tr>\n",
       "  </thead>\n",
       "  <tbody>\n",
       "    <tr>\n",
       "      <th>1</th>\n",
       "      <td>5.0</td>\n",
       "      <td>3.0</td>\n",
       "      <td>0.0</td>\n",
       "    </tr>\n",
       "    <tr>\n",
       "      <th>2</th>\n",
       "      <td>0.0</td>\n",
       "      <td>4.0</td>\n",
       "      <td>5.0</td>\n",
       "    </tr>\n",
       "    <tr>\n",
       "      <th>3</th>\n",
       "      <td>1.0</td>\n",
       "      <td>5.0</td>\n",
       "      <td>4.0</td>\n",
       "    </tr>\n",
       "  </tbody>\n",
       "</table>\n",
       "</div>"
      ],
      "text/plain": [
       "item_id    1    2    3\n",
       "user_id               \n",
       "1        5.0  3.0  0.0\n",
       "2        0.0  4.0  5.0\n",
       "3        1.0  5.0  4.0"
      ]
     },
     "execution_count": 20,
     "metadata": {},
     "output_type": "execute_result"
    }
   ],
   "source": [
    "interaction_matrix"
   ]
  },
  {
   "cell_type": "code",
   "execution_count": 21,
   "metadata": {},
   "outputs": [
    {
     "data": {
      "text/plain": [
       "{1: 0, 2: 1, 3: 2}"
      ]
     },
     "execution_count": 21,
     "metadata": {},
     "output_type": "execute_result"
    }
   ],
   "source": [
    "user_mapper"
   ]
  },
  {
   "cell_type": "code",
   "execution_count": 22,
   "metadata": {},
   "outputs": [
    {
     "data": {
      "text/plain": [
       "array([[0., 0., 0.],\n",
       "       [0., 0., 0.],\n",
       "       [0., 0., 0.]])"
      ]
     },
     "execution_count": 22,
     "metadata": {},
     "output_type": "execute_result"
    }
   ],
   "source": [
    "pearson_corr_matrix"
   ]
  },
  {
   "cell_type": "code",
   "execution_count": 23,
   "metadata": {},
   "outputs": [
    {
     "data": {
      "image/png": "[encoded data removed]",
      "text/plain": [
       "<Figure size 640x480 with 2 Axes>"
      ]
     },
     "metadata": {},
     "output_type": "display_data"
    }
   ],
   "source": [
    "# plotting heat map\n",
    "import seaborn as sns\n",
    "import matplotlib.pyplot as plt\n",
    "\n",
    "sns.heatmap(pcc_matrix, cmap='YlGnBu', linewidths=0.5, annot=True)\n",
    "# add title\n",
    "plt.title('Pearson Correlation Coefficient Matrix')\n",
    "# add x-axis label\n",
    "plt.xlabel('Item ID')\n",
    "# add y-axis label\n",
    "plt.ylabel('Item ID')\n",
    "plt.show()\n",
    "\n"
   ]
  },
  {
   "cell_type": "markdown",
   "metadata": {},
   "source": [
    "#### User 0 and User 0 Correlation:\n",
    "\n",
    "+ Corrated indices: [0 1]\n",
    "+ Mean ratings: 4.0, 4.0\n",
    "+ Pearson correlation: ≈1.0\n",
    "\n",
    "-> This is the correlation of User 0 with themselves. The correlation value is close to 1, which is correct as any entity should be perfectly correlated with itself. The slight deviation from 1 is due to the small constant EPSILON added to avoid division by zero.\n",
    "\n",
    "#### User 0 and User 1 Correlation:\n",
    "\n",
    "+ Corrated indices: [1]\n",
    "+ Mean ratings: 3.0, 4.0\n",
    "+ Pearson correlation: 0.0\n",
    "\n",
    "-> Here, users 0 and 1 only have one item in common. Given their ratings are different for this single item, the correlation is 0. This makes sense because with only one item, the correlation calculation essentially compares two single points, which results in zero correlation if they are not identical.\n",
    "\n",
    "#### User 0 and User 2 Correlation:\n",
    "\n",
    "+ Corrated indices: [0 1]\n",
    "+ Mean ratings: 4.0, 3.0\n",
    "+ Pearson correlation: ≈-1.0\n",
    "\n",
    "-> Users 0 and 2 have two corrated items, but their ratings are in opposite directions. This results in a high negative correlation, suggesting a strong inverse relationship in their preferences.\n",
    "\n",
    "#### User 1 and User 1 Correlation:\n",
    "\n",
    "+ Corrated indices: [1 2]\n",
    "+ Mean ratings: 4.5, 4.5\n",
    "+ Pearson correlation: ≈1.0\n",
    "\n",
    "-> Similar to User 0 and User 0, this is the self-correlation of User 1, correctly showing a value close to 1.\n",
    "\n",
    "#### User 1 and User 2 Correlation:\n",
    "\n",
    "+ Corrated indices: [1 2]\n",
    "+ Mean ratings: 4.5, 4.5\n",
    "+ Pearson correlation: ≈-1.0\n",
    "\n",
    "-> Users 1 and 2 share two items and have identical average ratings, yet the correlation is strongly negative. This indicates an inverse relationship in their item-specific ratings.\n",
    "\n",
    "#### User 2 and User 2 Correlation:\n",
    "\n",
    "+ Corrated indices: [0 1 2]\n",
    "+ Mean ratings: ≈3.33, ≈3.33\n",
    "+ Pearson correlation: ≈1.0\n",
    "\n",
    "-> This is the self-correlation of User 2, correctly near 1.\n",
    "\n",
    "### Analysis Summary:\n",
    "The calculated Pearson correlations are logically consistent within the context of the data.\n",
    "Self-correlations are close to 1, as expected.\n",
    "Correlations between different users vary based on their rating patterns.\n",
    "The presence of negative correlations indicates inverse rating patterns between users.\n",
    "### Considerations:\n",
    "The binary transformation of ratings in the create_interaction_matrix function may not be ideal for Pearson correlation, especially if the original data has more varied ratings (like a 1-5 scale). The binary nature can lead to less meaningful correlations.\n",
    "The dataset and method seem to be working correctly for the given binary interaction matrix, but for more nuanced recommendations, consider using the actual rating values if available.\n",
    "The small deviations from exact 0 or 1 in the correlations are likely due to the EPSILON used to avoid division by zero, which is a standard practice in such calculations.\n",
    "\n",
    "\n",
    "\n",
    "\n"
   ]
  }
 ],
 "metadata": {
  "kernelspec": {
   "display_name": "test",
   "language": "python",
   "name": "python3"
  },
  "language_info": {
   "codemirror_mode": {
    "name": "ipython",
    "version": 3
   },
   "file_extension": ".py",
   "mimetype": "text/x-python",
   "name": "python",
   "nbconvert_exporter": "python",
   "pygments_lexer": "ipython3",
   "version": "3.11.4"
  }
 },
 "nbformat": 4,
 "nbformat_minor": 2
}
