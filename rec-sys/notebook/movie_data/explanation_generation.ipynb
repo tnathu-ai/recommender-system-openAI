{
 "cells": [
  {
   "cell_type": "code",
   "execution_count": 2,
   "metadata": {},
   "outputs": [
    {
     "name": "stdout",
     "output_type": "stream",
     "text": [
      "Requirement already satisfied: nltk in /Users/tnathu-ai/.conda/envs/Advanced_Programming_for_Data_Science/lib/python3.10/site-packages (3.7)\n",
      "Requirement already satisfied: rouge in /Users/tnathu-ai/.conda/envs/Advanced_Programming_for_Data_Science/lib/python3.10/site-packages (1.0.1)\n",
      "Requirement already satisfied: click in /Users/tnathu-ai/.conda/envs/Advanced_Programming_for_Data_Science/lib/python3.10/site-packages (from nltk) (8.0.4)\n",
      "Requirement already satisfied: joblib in /Users/tnathu-ai/.conda/envs/Advanced_Programming_for_Data_Science/lib/python3.10/site-packages (from nltk) (0.16.0)\n",
      "Requirement already satisfied: regex>=2021.8.3 in /Users/tnathu-ai/.conda/envs/Advanced_Programming_for_Data_Science/lib/python3.10/site-packages (from nltk) (2022.8.17)\n",
      "Requirement already satisfied: tqdm in /Users/tnathu-ai/.conda/envs/Advanced_Programming_for_Data_Science/lib/python3.10/site-packages (from nltk) (4.65.0)\n",
      "Requirement already satisfied: six in /Users/tnathu-ai/.conda/envs/Advanced_Programming_for_Data_Science/lib/python3.10/site-packages (from rouge) (1.16.0)\n"
     ]
    }
   ],
   "source": [
    "!pip install nltk rouge\n",
    "from nltk.translate.bleu_score import sentence_bleu\n",
    "from rouge import Rouge \n",
    "from nltk.translate.bleu_score import SmoothingFunction\n"
   ]
  },
  {
   "attachments": {},
   "cell_type": "markdown",
   "metadata": {},
   "source": [
    "# Explanation Generation"
   ]
  },
  {
   "cell_type": "code",
   "execution_count": 3,
   "metadata": {},
   "outputs": [
    {
     "name": "stdout",
     "output_type": "stream",
     "text": [
      "BLEU-1: 0, BLEU-2: 0, BLEU-3: 0, BLEU-4: 0\n",
      "BLEU-1: 0.13406400920712788, BLEU-2: 4.471666651098519e-155, BLEU-3: 3.506464372012367e-204, BLEU-4: 8.166726842395623e-232\n",
      "BLEU-1: 0.016949152542372878, BLEU-2: 0.006929256557331167, BLEU-3: 1.120667676549564e-103, BLEU-4: 1.2416967272489542e-155\n",
      "ROUGE-1: {'r': 0.0, 'p': 0.0, 'f': 0.0}, ROUGE-2: {'r': 0.0, 'p': 0.0, 'f': 0.0}, ROUGE-L: {'r': 0.0, 'p': 0.0, 'f': 0.0}\n",
      "ROUGE-1: {'r': 0.14285714285714285, 'p': 0.2, 'f': 0.1666666618055557}, ROUGE-2: {'r': 0.0, 'p': 0.0, 'f': 0.0}, ROUGE-L: {'r': 0.14285714285714285, 'p': 0.2, 'f': 0.1666666618055557}\n",
      "ROUGE-1: {'r': 0.5, 'p': 0.03225806451612903, 'f': 0.0606060594674013}, ROUGE-2: {'r': 0.07692307692307693, 'p': 0.002967359050445104, 'f': 0.005714284999020498}, ROUGE-L: {'r': 0.42857142857142855, 'p': 0.027649769585253458, 'f': 0.05194805080939266}\n"
     ]
    }
   ],
   "source": [
    "# Define the texts\n",
    "ground_truth = \"this is the best deal I've seen on nail polish in a long time\"\n",
    "p5_output = \"great price and great quality and great price\"\n",
    "paper_chatgpt_output = \"SHANY's Nail Art Set is a must-have for stunning manicures.\"\n",
    "my_output = \"\"\"Title: An Absolute Delight for All Ages!\n",
    "Rating: ⭐⭐⭐⭐⭐ (5.0 stars)\n",
    "Review:\n",
    "I recently purchased this incredible product as a Christmas gift for my fourteen-year-old niece, and I must say, it exceeded all expectations! In fact, I couldn't resist the temptation to try it out for myself, and before I knew it, I found myself hooked, going back for more and more.\n",
    "The sheer enjoyment and entertainment this product provides are unparalleled. From the moment I gave it a try, I was captivated by its charm and versatility. It's safe to say that it quickly became a hit not only with my niece but also with everyone who joined in on the fun.\n",
    "One of the standout features of this product is its ability to engage people of all ages. Whether you're a teenager, a young adult, or even a seasoned grown-up like myself, it offers an immersive experience that guarantees a good time. It effortlessly brings people together, creating memorable moments and lasting laughter.\n",
    "I was so enthralled by the product's capabilities that I even contemplated keeping a few for myself! The thought of having this endless source of enjoyment within arm's reach was incredibly tempting. But alas, I couldn't deny the joy it would bring to my niece and others, so I decided to share the experience and spread the fun.\n",
    "Not only is this product incredibly entertaining, but it also boasts top-notch quality. Its durability ensures that it can withstand the excitement of countless uses, making it a reliable investment that will continue to bring joy for years to come. The design is sleek and intuitive, adding to the overall appeal and enhancing the overall experience.\n",
    "In conclusion, this product is an absolute must-have for anyone looking to bring smiles, laughter, and endless fun into their lives. Its universal appeal, exceptional quality, and addictive nature make it a perfect gift for loved ones or even a delightful indulgence for yourself. Trust me when I say, you won't regret adding this gem to your collection. Prepare to be captivated, entertained, and immersed in a world of pure enjoyment with this incredible product!\n",
    "\"\"\"  \n",
    "\n",
    "# BLEU scores (up to n-grams, where n=4)\n",
    "for model_output in [p5_output, paper_chatgpt_output, my_output]:\n",
    "    bleu1 = sentence_bleu([ground_truth.split()], model_output.split(), weights=(1, 0, 0, 0))\n",
    "    bleu2 = sentence_bleu([ground_truth.split()], model_output.split(), weights=(0.5, 0.5, 0, 0))\n",
    "    bleu3 = sentence_bleu([ground_truth.split()], model_output.split(), weights=(0.33, 0.33, 0.33, 0))\n",
    "    bleu4 = sentence_bleu([ground_truth.split()], model_output.split(), weights=(0.25, 0.25, 0.25, 0.25))\n",
    "    print(f'BLEU-1: {bleu1}, BLEU-2: {bleu2}, BLEU-3: {bleu3}, BLEU-4: {bleu4}')\n",
    "\n",
    "# ROUGE scores\n",
    "rouge = Rouge()\n",
    "for model_output in [p5_output, paper_chatgpt_output, my_output]:\n",
    "    scores = rouge.get_scores(model_output, ground_truth)\n",
    "    print(f'ROUGE-1: {scores[0][\"rouge-1\"]}, ROUGE-2: {scores[0][\"rouge-2\"]}, ROUGE-L: {scores[0][\"rouge-l\"]}')\n"
   ]
  },
  {
   "attachments": {},
   "cell_type": "markdown",
   "metadata": {},
   "source": [
    "### -------------------> OBSERVATION:\n",
    "\n",
    "+ BLEU: For all models (P5, Paper-ChatGPT, and your output), the BLEU scores are low, indicating that there is a small overlap in n-grams between the generated explanations and the ground truth. This is expected because your ground truth and generated explanations are different. Furthermore, BLEU is usually more useful when you have multiple reference translations. When there's only one, as in your case, it's often quite strict.\n",
    "\n",
    "+ ROUGE: The ROUGE scores are also low for all models, indicating that there is a small overlap of n-grams when considering the generated explanation with respect to the ground truth."
   ]
  },
  {
   "cell_type": "code",
   "execution_count": 3,
   "metadata": {},
   "outputs": [
    {
     "name": "stdout",
     "output_type": "stream",
     "text": [
      "BLEU-1: 0, BLEU-2: 0, BLEU-3: 0, BLEU-4: 0\n",
      "BLEU-1: 0.1481636441363436, BLEU-2: 4.941955938122807e-155, BLEU-3: 3.875242449216457e-204, BLEU-4: 9.025629002083406e-232\n",
      "BLEU-1: 0.03125, BLEU-2: 0.02213169474364097, BLEU-3: 0.017352367929825103, BLEU-4: 0.010987934297056575\n",
      "ROUGE-1: {'r': 0.0, 'p': 0.0, 'f': 0.0}, ROUGE-2: {'r': 0.0, 'p': 0.0, 'f': 0.0}, ROUGE-L: {'r': 0.0, 'p': 0.0, 'f': 0.0}\n",
      "ROUGE-1: {'r': 0.16666666666666666, 'p': 0.2, 'f': 0.18181817685950424}, ROUGE-2: {'r': 0.0, 'p': 0.0, 'f': 0.0}, ROUGE-L: {'r': 0.16666666666666666, 'p': 0.2, 'f': 0.18181817685950424}\n",
      "ROUGE-1: {'r': 0.75, 'p': 0.046875, 'f': 0.08823529301038063}, ROUGE-2: {'r': 0.4166666666666667, 'p': 0.016722408026755852, 'f': 0.03215434009408506}, ROUGE-L: {'r': 0.75, 'p': 0.046875, 'f': 0.08823529301038063}\n"
     ]
    },
    {
     "name": "stderr",
     "output_type": "stream",
     "text": [
      "/Users/tnathu-ai/.conda/envs/Advanced_Programming_for_Data_Science/lib/python3.10/site-packages/nltk/translate/bleu_score.py:552: UserWarning: \n",
      "The hypothesis contains 0 counts of 2-gram overlaps.\n",
      "Therefore the BLEU score evaluates to 0, independently of\n",
      "how many N-gram overlaps of lower order it contains.\n",
      "Consider using lower n-gram order or use SmoothingFunction()\n",
      "  warnings.warn(_msg)\n",
      "/Users/tnathu-ai/.conda/envs/Advanced_Programming_for_Data_Science/lib/python3.10/site-packages/nltk/translate/bleu_score.py:552: UserWarning: \n",
      "The hypothesis contains 0 counts of 3-gram overlaps.\n",
      "Therefore the BLEU score evaluates to 0, independently of\n",
      "how many N-gram overlaps of lower order it contains.\n",
      "Consider using lower n-gram order or use SmoothingFunction()\n",
      "  warnings.warn(_msg)\n",
      "/Users/tnathu-ai/.conda/envs/Advanced_Programming_for_Data_Science/lib/python3.10/site-packages/nltk/translate/bleu_score.py:552: UserWarning: \n",
      "The hypothesis contains 0 counts of 4-gram overlaps.\n",
      "Therefore the BLEU score evaluates to 0, independently of\n",
      "how many N-gram overlaps of lower order it contains.\n",
      "Consider using lower n-gram order or use SmoothingFunction()\n",
      "  warnings.warn(_msg)\n"
     ]
    }
   ],
   "source": [
    "# Define the texts\n",
    "ground_truth = \"I wouldn't recommend this for painting your full nail (It is for art)\"\n",
    "p5_output = \"great price and great price and great price\"\n",
    "chatgpt_output = \"SHANY's Nail Art Set is a must-have for creative nails.\"\n",
    "my_output = \"\"\"Title: A Colorful Dream for Nail Art Enthusiasts!\n",
    "Rating: ⭐⭐⭐⭐⭐ (5.0 stars)\n",
    "Review:\n",
    "I am absolutely in love with this product! The vibrant array of colors instantly caught my attention, and I was thrilled to find that I didn't receive any duplicates. The variety provided endless possibilities for my nail art creations.\n",
    "While there were a couple of minor issues with the packaging, such as one bottle not being fully closed and a chip on the neck of another bottle, I was relieved to discover that these problems didn't hinder the usability of the product. I simply closed the bottle tightly, and it remained perfectly functional. The quality of the polish itself was not compromised, and I could still create beautiful designs without any issues.\n",
    "Although I wouldn't recommend this product for painting your entire nail, as it is primarily intended for nail art, it excels in the realm of stamping and intricate designs. The small brushes included are perfect for detailed work, allowing me to unleash my creativity and achieve precise, eye-catching results.\n",
    "It's important to note that not all colors are suitable for stamping, especially the metallic ones. However, this did not detract from the overall value of the product. The non-metallic shades worked like a charm, providing clean, crisp imprints on my nails and adding a touch of elegance to my nail art projects.\n",
    "In conclusion, this product is a dream come true for nail art enthusiasts like myself. The impressive range of colors, coupled with the convenient small brushes, makes it a go-to choice for creating intricate designs and stamping. Despite a few packaging hiccups, the quality of the polish remains exceptional, and the versatility it offers is unmatched. I highly recommend this product to anyone looking to elevate their nail art game and unleash their creativity. Get ready to dive into a world of stunning colors and endless possibilities with this fantastic nail art set!\n",
    "\"\"\"  \n",
    "\n",
    "# BLEU scores (up to n-grams, where n=4)\n",
    "for model_output in [p5_output, chatgpt_output, my_output]:\n",
    "    bleu1 = sentence_bleu([ground_truth.split()], model_output.split(), weights=(1, 0, 0, 0))\n",
    "    bleu2 = sentence_bleu([ground_truth.split()], model_output.split(), weights=(0.5, 0.5, 0, 0))\n",
    "    bleu3 = sentence_bleu([ground_truth.split()], model_output.split(), weights=(0.33, 0.33, 0.33, 0))\n",
    "    bleu4 = sentence_bleu([ground_truth.split()], model_output.split(), weights=(0.25, 0.25, 0.25, 0.25))\n",
    "    print(f'BLEU-1: {bleu1}, BLEU-2: {bleu2}, BLEU-3: {bleu3}, BLEU-4: {bleu4}')\n",
    "\n",
    "# ROUGE scores\n",
    "rouge = Rouge()\n",
    "for model_output in [p5_output, chatgpt_output, my_output]:\n",
    "    scores = rouge.get_scores(model_output, ground_truth)\n",
    "    print(f'ROUGE-1: {scores[0][\"rouge-1\"]}, ROUGE-2: {scores[0][\"rouge-2\"]}, ROUGE-L: {scores[0][\"rouge-l\"]}')\n"
   ]
  },
  {
   "cell_type": "code",
   "execution_count": 4,
   "metadata": {},
   "outputs": [
    {
     "name": "stdout",
     "output_type": "stream",
     "text": [
      "BLEU-1: 0, BLEU-2: 0, BLEU-3: 0, BLEU-4: 0\n",
      "BLEU-1: 0.1481636441363436, BLEU-2: 0.034922505831373, BLEU-3: 0.023234419705932024, BLEU-4: 0.01859351593152887\n",
      "BLEU-1: 0.03125, BLEU-2: 0.02213169474364097, BLEU-3: 0.017352367929825103, BLEU-4: 0.010987934297056575\n"
     ]
    }
   ],
   "source": [
    "# Define a smoothing function\n",
    "chencherry = SmoothingFunction()\n",
    "\n",
    "# BLEU scores (up to n-grams, where n=4)\n",
    "for model_output in [p5_output, chatgpt_output, my_output]:\n",
    "    bleu1 = sentence_bleu([ground_truth.split()], model_output.split(), weights=(1, 0, 0, 0), smoothing_function=chencherry.method1)\n",
    "    bleu2 = sentence_bleu([ground_truth.split()], model_output.split(), weights=(0.5, 0.5, 0, 0), smoothing_function=chencherry.method1)\n",
    "    bleu3 = sentence_bleu([ground_truth.split()], model_output.split(), weights=(0.33, 0.33, 0.33, 0), smoothing_function=chencherry.method1)\n",
    "    bleu4 = sentence_bleu([ground_truth.split()], model_output.split(), weights=(0.25, 0.25, 0.25, 0.25), smoothing_function=chencherry.method1)\n",
    "    print(f'BLEU-1: {bleu1}, BLEU-2: {bleu2}, BLEU-3: {bleu3}, BLEU-4: {bleu4}')\n"
   ]
  },
  {
   "attachments": {},
   "cell_type": "markdown",
   "metadata": {},
   "source": [
    "The function takes in a ground truth explanation and a list of generated explanations as input. It computes the BLEU and ROUGE scores for each generated explanation with respect to the ground truth. If the ground truth explanation is short, the function applies the SmoothingFunction for computing BLEU scores.\n",
    "\n"
   ]
  },
  {
   "cell_type": "code",
   "execution_count": 5,
   "metadata": {},
   "outputs": [
    {
     "name": "stdout",
     "output_type": "stream",
     "text": [
      "For model output 1:\n",
      "BLEU-1: 0, BLEU-2: 0, BLEU-3: 0, BLEU-4: 0\n",
      "ROUGE-1: {'r': 0.0, 'p': 0.0, 'f': 0.0}, ROUGE-2: {'r': 0.0, 'p': 0.0, 'f': 0.0}, ROUGE-L: {'r': 0.0, 'p': 0.0, 'f': 0.0}\n",
      "\n",
      "\n",
      "For model output 2:\n",
      "BLEU-1: 0.1481636441363436, BLEU-2: 4.941955938122807e-155, BLEU-3: 3.875242449216457e-204, BLEU-4: 9.025629002083406e-232\n",
      "ROUGE-1: {'r': 0.16666666666666666, 'p': 0.2, 'f': 0.18181817685950424}, ROUGE-2: {'r': 0.0, 'p': 0.0, 'f': 0.0}, ROUGE-L: {'r': 0.16666666666666666, 'p': 0.2, 'f': 0.18181817685950424}\n",
      "\n",
      "\n",
      "For model output 3:\n",
      "BLEU-1: 0.06062469223956427, BLEU-2: 2.3926037695918123e-155, BLEU-3: 1.9866097311073925e-204, BLEU-4: 4.753148692240233e-232\n",
      "ROUGE-1: {'r': 0.08333333333333333, 'p': 0.14285714285714285, 'f': 0.10526315324099744}, ROUGE-2: {'r': 0.0, 'p': 0.0, 'f': 0.0}, ROUGE-L: {'r': 0.08333333333333333, 'p': 0.14285714285714285, 'f': 0.10526315324099744}\n",
      "\n",
      "\n"
     ]
    }
   ],
   "source": [
    "from nltk.translate.bleu_score import sentence_bleu, SmoothingFunction\n",
    "from rouge import Rouge \n",
    "\n",
    "def evaluate_explanations(ground_truth, model_outputs):\n",
    "    # Define a smoothing function\n",
    "    chencherry = SmoothingFunction()\n",
    "    \n",
    "    # Initialize Rouge\n",
    "    rouge = Rouge()\n",
    "    \n",
    "    for i, model_output in enumerate(model_outputs):\n",
    "        # Calculate BLEU scores\n",
    "        if len(ground_truth.split()) < 5:  # Apply smoothing for short sentences\n",
    "            bleu1 = sentence_bleu([ground_truth.split()], model_output.split(), weights=(1, 0, 0, 0), smoothing_function=chencherry.method1)\n",
    "            bleu2 = sentence_bleu([ground_truth.split()], model_output.split(), weights=(0.5, 0.5, 0, 0), smoothing_function=chencherry.method1)\n",
    "            bleu3 = sentence_bleu([ground_truth.split()], model_output.split(), weights=(0.33, 0.33, 0.33, 0), smoothing_function=chencherry.method1)\n",
    "            bleu4 = sentence_bleu([ground_truth.split()], model_output.split(), weights=(0.25, 0.25, 0.25, 0.25), smoothing_function=chencherry.method1)\n",
    "        else:\n",
    "            bleu1 = sentence_bleu([ground_truth.split()], model_output.split(), weights=(1, 0, 0, 0))\n",
    "            bleu2 = sentence_bleu([ground_truth.split()], model_output.split(), weights=(0.5, 0.5, 0, 0))\n",
    "            bleu3 = sentence_bleu([ground_truth.split()], model_output.split(), weights=(0.33, 0.33, 0.33, 0))\n",
    "            bleu4 = sentence_bleu([ground_truth.split()], model_output.split(), weights=(0.25, 0.25, 0.25, 0.25))\n",
    "        \n",
    "        # Calculate ROUGE scores\n",
    "        rouge_scores = rouge.get_scores(hyps=model_output, refs=ground_truth)[0]\n",
    "        \n",
    "        # Print BLEU and ROUGE scores\n",
    "        print(f'For model output {i + 1}:')\n",
    "        print(f'BLEU-1: {bleu1}, BLEU-2: {bleu2}, BLEU-3: {bleu3}, BLEU-4: {bleu4}')\n",
    "        print(f\"ROUGE-1: {rouge_scores['rouge-1']}, ROUGE-2: {rouge_scores['rouge-2']}, ROUGE-L: {rouge_scores['rouge-l']}\")\n",
    "        print(\"\\n\")\n",
    "\n",
    "# Usage:\n",
    "ground_truth = \"I wouldn't recommend this for painting your full nail (It is for art)\"\n",
    "model_outputs = [\"great price and great price and great price\", \"SHANY's Nail Art Set is a must-have for creative nails.\", \"A Colorful Dream for Nail Art Enthusiasts!...\"]\n",
    "evaluate_explanations(ground_truth, model_outputs)\n"
   ]
  }
 ],
 "metadata": {
  "kernelspec": {
   "display_name": "Advanced_Programming_for_Data_Science",
   "language": "python",
   "name": "python3"
  },
  "language_info": {
   "codemirror_mode": {
    "name": "ipython",
    "version": 3
   },
   "file_extension": ".py",
   "mimetype": "text/x-python",
   "name": "python",
   "nbconvert_exporter": "python",
   "pygments_lexer": "ipython3",
   "version": "3.10.4"
  },
  "orig_nbformat": 4
 },
 "nbformat": 4,
 "nbformat_minor": 2
}
