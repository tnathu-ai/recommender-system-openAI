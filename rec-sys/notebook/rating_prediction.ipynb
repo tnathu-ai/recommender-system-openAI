{
 "cells": [
  {
   "cell_type": "code",
   "execution_count": 1,
   "metadata": {},
   "outputs": [
    {
     "name": "stdout",
     "output_type": "stream",
     "text": [
      "Intel MKL WARNING: Support of Intel(R) Streaming SIMD Extensions 4.2 (Intel(R) SSE4.2) enabled only processors has been deprecated. Intel oneAPI Math Kernel Library 2025.0 will require Intel(R) Advanced Vector Extensions (Intel(R) AVX) instructions.\n",
      "Intel MKL WARNING: Support of Intel(R) Streaming SIMD Extensions 4.2 (Intel(R) SSE4.2) enabled only processors has been deprecated. Intel oneAPI Math Kernel Library 2025.0 will require Intel(R) Advanced Vector Extensions (Intel(R) AVX) instructions.\n"
     ]
    }
   ],
   "source": [
    "import numpy as np\n",
    "import openai\n",
    "import pandas as pd\n",
    "import os\n",
    "from sklearn.metrics import mean_squared_error, mean_absolute_error\n",
    "# OpenAI API Key\n",
    "openai.api_key = openai.api_key = os.getenv(\"OPENAI_API_KEY\")\n"
   ]
  },
  {
   "cell_type": "markdown",
   "metadata": {},
   "source": [
    "# RMSE & MAE evaluation metrics"
   ]
  },
  {
   "cell_type": "code",
   "execution_count": 2,
   "metadata": {},
   "outputs": [
    {
     "name": "stdout",
     "output_type": "stream",
     "text": [
      "RMSE:  1.0\n",
      "MAE:  1.0\n"
     ]
    }
   ],
   "source": [
    "# calculate RMSE and MAE manually\n",
    "def calculate_rmse_and_mae(actual_ratings, predicted_ratings):\n",
    "    differences = [actual - predicted for actual, predicted in zip(actual_ratings, predicted_ratings)]\n",
    "    \n",
    "    # RMSE\n",
    "    squared_differences = [diff ** 2 for diff in differences]\n",
    "    mean_squared_difference = sum(squared_differences) / len(squared_differences)\n",
    "    rmse = mean_squared_difference ** 0.5\n",
    "\n",
    "    # MAE\n",
    "    absolute_differences = [abs(diff) for diff in differences]\n",
    "    mae = sum(absolute_differences) / len(absolute_differences)\n",
    "\n",
    "    return rmse, mae\n",
    "\n",
    "# Test\n",
    "actual_ratings = [4, 4]  # Ground truth ratings\n",
    "predicted_ratings = [3, 5]  # Predicted ratings\n",
    "\n",
    "rmse, mae = calculate_rmse_and_mae(actual_ratings, predicted_ratings)\n",
    "print(\"RMSE: \", rmse)\n",
    "print(\"MAE: \", mae)\n"
   ]
  },
  {
   "cell_type": "markdown",
   "metadata": {},
   "source": [
    "# Data Overview"
   ]
  },
  {
   "cell_type": "code",
   "execution_count": 3,
   "metadata": {},
   "outputs": [
    {
     "name": "stdout",
     "output_type": "stream",
     "text": [
      "<class 'pandas.core.frame.DataFrame'>\n",
      "RangeIndex: 3476 entries, 0 to 3475\n",
      "Data columns (total 8 columns):\n",
      " #   Column   Non-Null Count  Dtype  \n",
      "---  ------   --------------  -----  \n",
      " 0   movieId  3476 non-null   int64  \n",
      " 1   imdbId   3476 non-null   int64  \n",
      " 2   tmdbId   3476 non-null   float64\n",
      " 3   title    3476 non-null   object \n",
      " 4   genres   3476 non-null   object \n",
      " 5   userId   3476 non-null   int64  \n",
      " 6   rating   3476 non-null   float64\n",
      " 7   tag      3476 non-null   object \n",
      "dtypes: float64(2), int64(3), object(3)\n",
      "memory usage: 217.4+ KB\n"
     ]
    },
    {
     "data": {
      "text/html": [
       "<div>\n",
       "<style scoped>\n",
       "    .dataframe tbody tr th:only-of-type {\n",
       "        vertical-align: middle;\n",
       "    }\n",
       "\n",
       "    .dataframe tbody tr th {\n",
       "        vertical-align: top;\n",
       "    }\n",
       "\n",
       "    .dataframe thead th {\n",
       "        text-align: right;\n",
       "    }\n",
       "</style>\n",
       "<table border=\"1\" class=\"dataframe\">\n",
       "  <thead>\n",
       "    <tr style=\"text-align: right;\">\n",
       "      <th></th>\n",
       "      <th>movieId</th>\n",
       "      <th>imdbId</th>\n",
       "      <th>tmdbId</th>\n",
       "      <th>title</th>\n",
       "      <th>genres</th>\n",
       "      <th>userId</th>\n",
       "      <th>rating</th>\n",
       "      <th>tag</th>\n",
       "    </tr>\n",
       "  </thead>\n",
       "  <tbody>\n",
       "    <tr>\n",
       "      <th>0</th>\n",
       "      <td>1</td>\n",
       "      <td>114709</td>\n",
       "      <td>862.0</td>\n",
       "      <td>Toy Story (1995)</td>\n",
       "      <td>Adventure|Animation|Children|Comedy|Fantasy</td>\n",
       "      <td>336</td>\n",
       "      <td>4.0</td>\n",
       "      <td>pixar</td>\n",
       "    </tr>\n",
       "    <tr>\n",
       "      <th>1</th>\n",
       "      <td>1</td>\n",
       "      <td>114709</td>\n",
       "      <td>862.0</td>\n",
       "      <td>Toy Story (1995)</td>\n",
       "      <td>Adventure|Animation|Children|Comedy|Fantasy</td>\n",
       "      <td>474</td>\n",
       "      <td>4.0</td>\n",
       "      <td>pixar</td>\n",
       "    </tr>\n",
       "    <tr>\n",
       "      <th>2</th>\n",
       "      <td>1</td>\n",
       "      <td>114709</td>\n",
       "      <td>862.0</td>\n",
       "      <td>Toy Story (1995)</td>\n",
       "      <td>Adventure|Animation|Children|Comedy|Fantasy</td>\n",
       "      <td>567</td>\n",
       "      <td>3.5</td>\n",
       "      <td>fun</td>\n",
       "    </tr>\n",
       "  </tbody>\n",
       "</table>\n",
       "</div>"
      ],
      "text/plain": [
       "   movieId  imdbId  tmdbId             title  \\\n",
       "0        1  114709   862.0  Toy Story (1995)   \n",
       "1        1  114709   862.0  Toy Story (1995)   \n",
       "2        1  114709   862.0  Toy Story (1995)   \n",
       "\n",
       "                                        genres  userId  rating    tag  \n",
       "0  Adventure|Animation|Children|Comedy|Fantasy     336     4.0  pixar  \n",
       "1  Adventure|Animation|Children|Comedy|Fantasy     474     4.0  pixar  \n",
       "2  Adventure|Animation|Children|Comedy|Fantasy     567     3.5    fun  "
      ]
     },
     "execution_count": 3,
     "metadata": {},
     "output_type": "execute_result"
    }
   ],
   "source": [
    "# Read the dataset\n",
    "dataset_path = \"../data/ml-latest-small/merged_data.csv\"\n",
    "movie_data = pd.read_csv(dataset_path)\n",
    "movie_data.info()\n",
    "movie_data.head(3)"
   ]
  },
  {
   "cell_type": "markdown",
   "metadata": {},
   "source": [
    "# Simple statistical methods (mean calculations) \n",
    "\n",
    ">> **Zero-Shot Prediction (zero_shot_predict function):**\n",
    "This method calculates the average rating for a given movie title from the `movie_data` DataFrame.\n",
    "It does not take into account any user-specific information and predicts the rating based on the average rating of the movie across all users.\n",
    "\n",
    ">> **Few-Shot Prediction (few_shot_predict function):**\n",
    "This method calculates the average rating for a given movie title by a specific user from the `movie_data` DataFrame.\n",
    "It predicts the rating based on the average rating of the movie by that specific user, thus incorporating user-specific information."
   ]
  },
  {
   "cell_type": "code",
   "execution_count": 4,
   "metadata": {},
   "outputs": [
    {
     "name": "stdout",
     "output_type": "stream",
     "text": [
      "Zero-Shot RMSE: 0.2595373192744763, MAE: 0.0901704296495429\n",
      "Few-Shot RMSE: 0.0, MAE: 0.0\n",
      "CPU times: user 2.9 s, sys: 32 ms, total: 2.94 s\n",
      "Wall time: 2.94 s\n"
     ]
    },
    {
     "data": {
      "text/html": [
       "<div>\n",
       "<style scoped>\n",
       "    .dataframe tbody tr th:only-of-type {\n",
       "        vertical-align: middle;\n",
       "    }\n",
       "\n",
       "    .dataframe tbody tr th {\n",
       "        vertical-align: top;\n",
       "    }\n",
       "\n",
       "    .dataframe thead th {\n",
       "        text-align: right;\n",
       "    }\n",
       "</style>\n",
       "<table border=\"1\" class=\"dataframe\">\n",
       "  <thead>\n",
       "    <tr style=\"text-align: right;\">\n",
       "      <th></th>\n",
       "      <th>movieId</th>\n",
       "      <th>imdbId</th>\n",
       "      <th>tmdbId</th>\n",
       "      <th>title</th>\n",
       "      <th>genres</th>\n",
       "      <th>userId</th>\n",
       "      <th>rating</th>\n",
       "      <th>tag</th>\n",
       "      <th>predicted_rating_zero_shot</th>\n",
       "      <th>predicted_rating_few_shot</th>\n",
       "    </tr>\n",
       "  </thead>\n",
       "  <tbody>\n",
       "    <tr>\n",
       "      <th>0</th>\n",
       "      <td>1</td>\n",
       "      <td>114709</td>\n",
       "      <td>862.0</td>\n",
       "      <td>Toy Story (1995)</td>\n",
       "      <td>Adventure|Animation|Children|Comedy|Fantasy</td>\n",
       "      <td>336</td>\n",
       "      <td>4.0</td>\n",
       "      <td>pixar</td>\n",
       "      <td>3.833333</td>\n",
       "      <td>4.0</td>\n",
       "    </tr>\n",
       "    <tr>\n",
       "      <th>1</th>\n",
       "      <td>1</td>\n",
       "      <td>114709</td>\n",
       "      <td>862.0</td>\n",
       "      <td>Toy Story (1995)</td>\n",
       "      <td>Adventure|Animation|Children|Comedy|Fantasy</td>\n",
       "      <td>474</td>\n",
       "      <td>4.0</td>\n",
       "      <td>pixar</td>\n",
       "      <td>3.833333</td>\n",
       "      <td>4.0</td>\n",
       "    </tr>\n",
       "    <tr>\n",
       "      <th>2</th>\n",
       "      <td>1</td>\n",
       "      <td>114709</td>\n",
       "      <td>862.0</td>\n",
       "      <td>Toy Story (1995)</td>\n",
       "      <td>Adventure|Animation|Children|Comedy|Fantasy</td>\n",
       "      <td>567</td>\n",
       "      <td>3.5</td>\n",
       "      <td>fun</td>\n",
       "      <td>3.833333</td>\n",
       "      <td>3.5</td>\n",
       "    </tr>\n",
       "    <tr>\n",
       "      <th>3</th>\n",
       "      <td>2</td>\n",
       "      <td>113497</td>\n",
       "      <td>8844.0</td>\n",
       "      <td>Jumanji (1995)</td>\n",
       "      <td>Adventure|Children|Fantasy</td>\n",
       "      <td>62</td>\n",
       "      <td>4.0</td>\n",
       "      <td>fantasy</td>\n",
       "      <td>3.750000</td>\n",
       "      <td>4.0</td>\n",
       "    </tr>\n",
       "    <tr>\n",
       "      <th>4</th>\n",
       "      <td>2</td>\n",
       "      <td>113497</td>\n",
       "      <td>8844.0</td>\n",
       "      <td>Jumanji (1995)</td>\n",
       "      <td>Adventure|Children|Fantasy</td>\n",
       "      <td>62</td>\n",
       "      <td>4.0</td>\n",
       "      <td>magic board game</td>\n",
       "      <td>3.750000</td>\n",
       "      <td>4.0</td>\n",
       "    </tr>\n",
       "  </tbody>\n",
       "</table>\n",
       "</div>"
      ],
      "text/plain": [
       "   movieId  imdbId  tmdbId             title  \\\n",
       "0        1  114709   862.0  Toy Story (1995)   \n",
       "1        1  114709   862.0  Toy Story (1995)   \n",
       "2        1  114709   862.0  Toy Story (1995)   \n",
       "3        2  113497  8844.0    Jumanji (1995)   \n",
       "4        2  113497  8844.0    Jumanji (1995)   \n",
       "\n",
       "                                        genres  userId  rating  \\\n",
       "0  Adventure|Animation|Children|Comedy|Fantasy     336     4.0   \n",
       "1  Adventure|Animation|Children|Comedy|Fantasy     474     4.0   \n",
       "2  Adventure|Animation|Children|Comedy|Fantasy     567     3.5   \n",
       "3                   Adventure|Children|Fantasy      62     4.0   \n",
       "4                   Adventure|Children|Fantasy      62     4.0   \n",
       "\n",
       "                tag  predicted_rating_zero_shot  predicted_rating_few_shot  \n",
       "0             pixar                    3.833333                        4.0  \n",
       "1             pixar                    3.833333                        4.0  \n",
       "2               fun                    3.833333                        3.5  \n",
       "3           fantasy                    3.750000                        4.0  \n",
       "4  magic board game                    3.750000                        4.0  "
      ]
     },
     "execution_count": 4,
     "metadata": {},
     "output_type": "execute_result"
    }
   ],
   "source": [
    "%%time \n",
    "\n",
    "def zero_shot_predict(movie_title):\n",
    "    # Get the average rating for the given title\n",
    "    avg_rating = movie_data.loc[movie_data['title'] == movie_title, 'rating'].mean()\n",
    "    return avg_rating\n",
    "\n",
    "def few_shot_predict(movie_title, user_id):\n",
    "    # Get the average rating for the given title by the specific user\n",
    "    avg_rating = movie_data.loc[(movie_data['title'] == movie_title) & (movie_data['userId'] == user_id), 'rating'].mean()\n",
    "    return avg_rating\n",
    "\n",
    "# Applying predictions\n",
    "movie_data['predicted_rating_zero_shot'] = movie_data['title'].apply(zero_shot_predict)\n",
    "movie_data['predicted_rating_few_shot'] = [few_shot_predict(row['title'], row['userId']) for _, row in movie_data.iterrows()]\n",
    "\n",
    "# Calculating RMSE and MAE for Zero-Shot\n",
    "rmse_zero_shot = mean_squared_error(movie_data['rating'], movie_data['predicted_rating_zero_shot'], squared=False)\n",
    "mae_zero_shot = mean_absolute_error(movie_data['rating'], movie_data['predicted_rating_zero_shot'])\n",
    "\n",
    "# Calculating RMSE and MAE for Few-Shot\n",
    "rmse_few_shot = mean_squared_error(movie_data['rating'], movie_data['predicted_rating_few_shot'], squared=False)\n",
    "mae_few_shot = mean_absolute_error(movie_data['rating'], movie_data['predicted_rating_few_shot'])\n",
    "\n",
    "print(f\"Zero-Shot RMSE: {rmse_zero_shot}, MAE: {mae_zero_shot}\")\n",
    "print(f\"Few-Shot RMSE: {rmse_few_shot}, MAE: {mae_few_shot}\")\n",
    "\n",
    "movie_data.head()\n",
    "\n"
   ]
  },
  {
   "cell_type": "markdown",
   "metadata": {},
   "source": [
    "# Zero-shot (GPT-3.5-turbo)"
   ]
  },
  {
   "cell_type": "code",
   "execution_count": 5,
   "metadata": {},
   "outputs": [],
   "source": [
    "data = movie_data"
   ]
  },
  {
   "cell_type": "code",
   "execution_count": 6,
   "metadata": {},
   "outputs": [
    {
     "name": "stdout",
     "output_type": "stream",
     "text": [
      "Predicted rating for Toy Story (1995): 4.5\n",
      "Predicted rating for Jumanji (1995): 4.5\n",
      "Predicted rating for Grumpier Old Men (1995): 4.5\n",
      "Predicted rating for Father of the Bride Part II (1995): 4.5\n",
      "Predicted rating for Sabrina (1995): 4.5\n",
      "Predicted rating for American President, The (1995): 4.5\n",
      "Predicted rating for Nixon (1995): 3.5\n",
      "Predicted rating for Casino (1995): 4.5\n",
      "Predicted rating for Sense and Sensibility (1995): 4.5\n",
      "Predicted rating for Get Shorty (1995): 4.5\n",
      "Predicted rating for Copycat (1995): 4.5\n",
      "Predicted rating for Leaving Las Vegas (1995): 4.5\n",
      "Predicted rating for Othello (1995): 4.5\n"
     ]
    }
   ],
   "source": [
    "%%time\n",
    "\n",
    "import openai\n",
    "\n",
    "def predict_rating(title, model=\"gpt-3.5-turbo\", temperature=0):\n",
    "    prompt = f\"How will users rate this movie title: '{title}'? (1 being lowest and 5 being highest. On a scale from 0.5 to 5, with intervals of 0.5) Attention! Just give me back the exact number as a result, and you don't need a lot of text.\"\n",
    "\n",
    "    response = openai.ChatCompletion.create(\n",
    "        model=model,\n",
    "        temperature=temperature, # Higher temperature: more creative\n",
    "        messages=[\n",
    "            {\n",
    "                \"role\": \"system\",\n",
    "                \"content\": \"You are a movie critic.\"\n",
    "            },\n",
    "            {\n",
    "                \"role\": \"user\",\n",
    "                \"content\": prompt\n",
    "            }\n",
    "        ]\n",
    "    )\n",
    "    # Extract the rating answer from the GPT's response\n",
    "    rating_text = response.choices[0].message['content'].strip()\n",
    "    try:\n",
    "        # Extract a float number from the response\n",
    "        rating = float(rating_text)\n",
    "        if rating < 0.5 or rating > 5.0:\n",
    "            raise ValueError(\"Rating out of bounds\")\n",
    "    except ValueError:\n",
    "        print(f\"Unexpected response for '{title}': {rating_text}\")\n",
    "        rating = None\n",
    "\n",
    "    return rating\n",
    "\n",
    "\n",
    "# Iterate through the dataset and predict ratings\n",
    "predicted_ratings = []\n",
    "for title in data['title'].unique():\n",
    "    predicted_rating = predict_rating(title)\n",
    "    print(f\"Predicted rating for {title}: {predicted_rating}\")\n",
    "    predicted_ratings.append(predicted_rating)\n",
    "\n",
    "# Create a DataFrame with titles and predicted ratings\n",
    "predicted_ratings_df = pd.DataFrame({\n",
    "    'title': data['title'].unique(),\n",
    "    'predicted_rating': predicted_ratings\n",
    "})\n",
    "\n",
    "# Merge the predicted ratings with the original data\n",
    "merged_data_with_predictions = pd.merge(data, predicted_ratings_df, on='title')\n",
    "\n",
    "# Save the merged data with predictions to a new CSV file\n",
    "merged_data_with_predictions.to_csv('../data/ml-latest-small/merged_data_with_predictions.csv', index=False)\n"
   ]
  },
  {
   "cell_type": "code",
   "execution_count": null,
   "metadata": {},
   "outputs": [
    {
     "ename": "NameError",
     "evalue": "name 'pd' is not defined",
     "output_type": "error",
     "traceback": [
      "\u001b[0;31m---------------------------------------------------------------------------\u001b[0m",
      "\u001b[0;31mNameError\u001b[0m                                 Traceback (most recent call last)",
      "Cell \u001b[0;32mIn[1], line 2\u001b[0m\n\u001b[1;32m      1\u001b[0m \u001b[39m# flatten the output dataframes rather than nested lists and dictionaries\u001b[39;00m\n\u001b[0;32m----> 2\u001b[0m pd\u001b[39m.\u001b[39mjson_normalize(response, \u001b[39m\"\u001b[39m\u001b[39mchoices\u001b[39m\u001b[39m\"\u001b[39m, [\u001b[39m'\u001b[39m\u001b[39mid\u001b[39m\u001b[39m'\u001b[39m, \u001b[39m'\u001b[39m\u001b[39mobject\u001b[39m\u001b[39m'\u001b[39m, \u001b[39m'\u001b[39m\u001b[39mcreated\u001b[39m\u001b[39m'\u001b[39m, \u001b[39m'\u001b[39m\u001b[39mmodel\u001b[39m\u001b[39m'\u001b[39m, \u001b[39m'\u001b[39m\u001b[39musage\u001b[39m\u001b[39m'\u001b[39m])\n",
      "\u001b[0;31mNameError\u001b[0m: name 'pd' is not defined"
     ]
    }
   ],
   "source": [
    "# flatten the output dataframes rather than nested lists and dictionaries\n",
    "pd.json_normalize(response, \"choices\", ['id', 'object', 'created', 'model', 'usage'])"
   ]
  },
  {
   "cell_type": "code",
   "execution_count": null,
   "metadata": {},
   "outputs": [
    {
     "name": "stdout",
     "output_type": "stream",
     "text": [
      "Number of null predicted_rating values: 58\n"
     ]
    },
    {
     "data": {
      "text/html": [
       "<div>\n",
       "<style scoped>\n",
       "    .dataframe tbody tr th:only-of-type {\n",
       "        vertical-align: middle;\n",
       "    }\n",
       "\n",
       "    .dataframe tbody tr th {\n",
       "        vertical-align: top;\n",
       "    }\n",
       "\n",
       "    .dataframe thead th {\n",
       "        text-align: right;\n",
       "    }\n",
       "</style>\n",
       "<table border=\"1\" class=\"dataframe\">\n",
       "  <thead>\n",
       "    <tr style=\"text-align: right;\">\n",
       "      <th></th>\n",
       "      <th>movieId</th>\n",
       "      <th>imdbId</th>\n",
       "      <th>tmdbId</th>\n",
       "      <th>title</th>\n",
       "      <th>genres</th>\n",
       "      <th>userId</th>\n",
       "      <th>rating</th>\n",
       "      <th>tag</th>\n",
       "      <th>predicted_rating</th>\n",
       "    </tr>\n",
       "  </thead>\n",
       "  <tbody>\n",
       "    <tr>\n",
       "      <th>0</th>\n",
       "      <td>1</td>\n",
       "      <td>114709</td>\n",
       "      <td>862.0</td>\n",
       "      <td>Toy Story (1995)</td>\n",
       "      <td>Adventure|Animation|Children|Comedy|Fantasy</td>\n",
       "      <td>336</td>\n",
       "      <td>4.0</td>\n",
       "      <td>pixar</td>\n",
       "      <td>4.5</td>\n",
       "    </tr>\n",
       "    <tr>\n",
       "      <th>1</th>\n",
       "      <td>1</td>\n",
       "      <td>114709</td>\n",
       "      <td>862.0</td>\n",
       "      <td>Toy Story (1995)</td>\n",
       "      <td>Adventure|Animation|Children|Comedy|Fantasy</td>\n",
       "      <td>474</td>\n",
       "      <td>4.0</td>\n",
       "      <td>pixar</td>\n",
       "      <td>4.5</td>\n",
       "    </tr>\n",
       "    <tr>\n",
       "      <th>2</th>\n",
       "      <td>1</td>\n",
       "      <td>114709</td>\n",
       "      <td>862.0</td>\n",
       "      <td>Toy Story (1995)</td>\n",
       "      <td>Adventure|Animation|Children|Comedy|Fantasy</td>\n",
       "      <td>567</td>\n",
       "      <td>3.5</td>\n",
       "      <td>fun</td>\n",
       "      <td>4.5</td>\n",
       "    </tr>\n",
       "  </tbody>\n",
       "</table>\n",
       "</div>"
      ],
      "text/plain": [
       "   movieId  imdbId  tmdbId             title  \\\n",
       "0        1  114709   862.0  Toy Story (1995)   \n",
       "1        1  114709   862.0  Toy Story (1995)   \n",
       "2        1  114709   862.0  Toy Story (1995)   \n",
       "\n",
       "                                        genres  userId  rating    tag  \\\n",
       "0  Adventure|Animation|Children|Comedy|Fantasy     336     4.0  pixar   \n",
       "1  Adventure|Animation|Children|Comedy|Fantasy     474     4.0  pixar   \n",
       "2  Adventure|Animation|Children|Comedy|Fantasy     567     3.5    fun   \n",
       "\n",
       "   predicted_rating  \n",
       "0               4.5  \n",
       "1               4.5  \n",
       "2               4.5  "
      ]
     },
     "execution_count": 18,
     "metadata": {},
     "output_type": "execute_result"
    }
   ],
   "source": [
    "# how many predicted_rating values are null? Why null output?\n",
    "print(f\"Number of null predicted_rating values: {merged_data_with_predictions['predicted_rating'].isnull().sum()}\")\n",
    "\n",
    "merged_data_with_predictions.head(3)"
   ]
  },
  {
   "cell_type": "code",
   "execution_count": null,
   "metadata": {},
   "outputs": [
    {
     "name": "stdout",
     "output_type": "stream",
     "text": [
      "Root Mean Squared Error (RMSE): 0.9985242406994432\n",
      "Mean Absolute Error (MAE): 0.7637057598889659\n"
     ]
    }
   ],
   "source": [
    "# evaluate the rating prediction model\n",
    "\n",
    "movie_titles = merged_data_with_predictions['title']\n",
    "actual_ratings = merged_data_with_predictions['rating']\n",
    "\n",
    "# Remove None predictions if any\n",
    "actual_ratings_filtered, predicted_ratings_filtered = zip(*[(actual, predicted) for actual, predicted in zip(actual_ratings, predicted_ratings) if predicted is not None])\n",
    "\n",
    "# Calculate RMSE\n",
    "rmse = np.sqrt(mean_squared_error(actual_ratings_filtered, predicted_ratings_filtered))\n",
    "print(f'Root Mean Squared Error (RMSE): {rmse}')\n",
    "\n",
    "# Calculate MAE\n",
    "mae = mean_absolute_error(actual_ratings_filtered, predicted_ratings_filtered)\n",
    "print(f'Mean Absolute Error (MAE): {mae}')\n"
   ]
  },
  {
   "cell_type": "code",
   "execution_count": null,
   "metadata": {},
   "outputs": [
    {
     "name": "stdout",
     "output_type": "stream",
     "text": [
      "RMSE: 0.9985242406994432\n",
      "MAE: 0.7637057598889659\n"
     ]
    }
   ],
   "source": [
    "# calculate RMSE and MAE manually using calculate_rmse_and_mae function\n",
    "rmse, mae = calculate_rmse_and_mae(\n",
    "    actual_ratings_filtered, predicted_ratings_filtered\n",
    ")\n",
    "print(f\"RMSE: {rmse}\")\n",
    "print(f\"MAE: {mae}\")\n"
   ]
  },
  {
   "cell_type": "markdown",
   "metadata": {},
   "source": [
    "# Few-shot"
   ]
  },
  {
   "cell_type": "code",
   "execution_count": null,
   "metadata": {},
   "outputs": [
    {
     "ename": "NameError",
     "evalue": "name 'data' is not defined",
     "output_type": "error",
     "traceback": [
      "\u001b[0;31m---------------------------------------------------------------------------\u001b[0m",
      "\u001b[0;31mNameError\u001b[0m                                 Traceback (most recent call last)",
      "File \u001b[0;32m<timed exec>:34\u001b[0m\n",
      "\u001b[0;31mNameError\u001b[0m: name 'data' is not defined"
     ]
    }
   ],
   "source": [
    "%%time\n",
    "\n",
    "import re\n",
    "\n",
    "def predict_rating_few_shot(movie_title, rating_history, , model=\"gpt-3.5-turbo\", temperature=0):\n",
    "    prompt = f\"Here is user rating history: {rating_history}; Based on the above rating history, please predict user's rating for the movie: '{movie_title}', (1 being lowest and 5 being highest. On a scale from 0.5 to 5, with intervals of 0.5). Attention! Just give me back the exact number as a result, and you don't need a lot of text.\"\n",
    "\n",
    "    response = openai.ChatCompletion.create(\n",
    "        model=model,\n",
    "        temperature=temperature, # Higher temperature: more creative\n",
    "        messages=[\n",
    "            {\n",
    "                \"role\": \"system\",\n",
    "                \"content\": \"You are a movie critic.\"\n",
    "            },\n",
    "            {\n",
    "                \"role\": \"user\",\n",
    "                \"content\": prompt\n",
    "            }\n",
    "        ]\n",
    "    )\n",
    "\n",
    "    rating_text = response.choices[0].message['content'].strip()\n",
    "    try:\n",
    "        # Extract the first numerical value from the response\n",
    "        rating = float(re.search(r'\\d+(\\.\\d+)?', rating_text).group())\n",
    "        if rating < 0.5 or rating > 5.0:\n",
    "            raise ValueError(\"Rating out of bounds\")\n",
    "    except (ValueError, AttributeError):\n",
    "        print(f\"Unexpected response for '{movie_title}': {rating_text}\")\n",
    "        rating = None\n",
    "\n",
    "    return rating\n",
    "\n",
    "\n",
    "predicted_ratings = []\n",
    "for title in data['title'].unique():\n",
    "    # Randomly sample 4 rows from the entire dataset\n",
    "    rating_history_samples = data.sample(4)\n",
    "    rating_history_str = ', '.join([f\"{row['title']} ({row['rating']} stars)\" for _, row in rating_history_samples.iterrows()])\n",
    "\n",
    "    predicted_rating = predict_rating_few_shot(title, rating_history_str)\n",
    "    print(f\"Predicted rating for {title}: {predicted_rating}\")\n",
    "    predicted_ratings.append(predicted_rating)\n",
    "\n",
    "# Create a DataFrame with titles and predicted ratings\n",
    "predicted_ratings_df = pd.DataFrame({\n",
    "    'title': data['title'].unique(),\n",
    "    'predicted_rating_few_shot': predicted_ratings\n",
    "})\n",
    "\n",
    "# Merge the predicted ratings with the original data\n",
    "merged_data_with_predictions = pd.merge(data, predicted_ratings_df, on='title')\n",
    "\n",
    "# Save the merged data with predictions to a new CSV file\n",
    "merged_data_with_predictions.to_csv('../data/ml-latest-small/merged_data_with_predictions.csv', index=False)\n",
    "\n",
    "\n",
    "# evaluate the rating prediction model\n",
    "\n",
    "movie_titles = merged_data_with_predictions['title']\n",
    "actual_ratings = merged_data_with_predictions['rating']\n",
    "\n",
    "# Remove None predictions if any\n",
    "actual_ratings_filtered, predicted_ratings_filtered = zip(*[(actual, predicted) for actual, predicted in zip(actual_ratings, predicted_ratings) if predicted is not None])\n",
    "\n",
    "# Calculate RMSE\n",
    "rmse = np.sqrt(mean_squared_error(actual_ratings_filtered, predicted_ratings_filtered))\n",
    "print(f'Root Mean Squared Error (RMSE): {rmse}')\n",
    "# Calculate MAE\n",
    "mae = mean_absolute_error(actual_ratings_filtered, predicted_ratings_filtered)\n",
    "print(f'Mean Absolute Error (MAE): {mae}')\n",
    "\n"
   ]
  },
  {
   "cell_type": "code",
   "execution_count": null,
   "metadata": {},
   "outputs": [
    {
     "ename": "NameError",
     "evalue": "name 'data' is not defined",
     "output_type": "error",
     "traceback": [
      "\u001b[0;31m---------------------------------------------------------------------------\u001b[0m",
      "\u001b[0;31mNameError\u001b[0m                                 Traceback (most recent call last)",
      "Cell \u001b[0;32mIn[7], line 3\u001b[0m\n\u001b[1;32m      1\u001b[0m \u001b[39m# demonstrate the output of 4 random historical ratings\u001b[39;00m\n\u001b[1;32m      2\u001b[0m predicted_ratings \u001b[39m=\u001b[39m []\n\u001b[0;32m----> 3\u001b[0m \u001b[39mfor\u001b[39;00m title \u001b[39min\u001b[39;00m data[\u001b[39m'\u001b[39m\u001b[39mtitle\u001b[39m\u001b[39m'\u001b[39m]\u001b[39m.\u001b[39munique():\n\u001b[1;32m      4\u001b[0m     \u001b[39m# Randomly sample 4 rows from the entire dataset\u001b[39;00m\n\u001b[1;32m      5\u001b[0m     rating_history_samples \u001b[39m=\u001b[39m data\u001b[39m.\u001b[39msample(\u001b[39m4\u001b[39m)\n\u001b[1;32m      6\u001b[0m     rating_history_str \u001b[39m=\u001b[39m \u001b[39m'\u001b[39m\u001b[39m, \u001b[39m\u001b[39m'\u001b[39m\u001b[39m.\u001b[39mjoin([\u001b[39mf\u001b[39m\u001b[39m\"\u001b[39m\u001b[39m{\u001b[39;00mrow[\u001b[39m'\u001b[39m\u001b[39mtitle\u001b[39m\u001b[39m'\u001b[39m]\u001b[39m}\u001b[39;00m\u001b[39m (\u001b[39m\u001b[39m{\u001b[39;00mrow[\u001b[39m'\u001b[39m\u001b[39mrating\u001b[39m\u001b[39m'\u001b[39m]\u001b[39m}\u001b[39;00m\u001b[39m stars)\u001b[39m\u001b[39m\"\u001b[39m \u001b[39mfor\u001b[39;00m _, row \u001b[39min\u001b[39;00m rating_history_samples\u001b[39m.\u001b[39miterrows()])\n",
      "\u001b[0;31mNameError\u001b[0m: name 'data' is not defined"
     ]
    }
   ],
   "source": [
    "# demonstrate the output of 4 random historical ratings\n",
    "predicted_ratings = []\n",
    "for title in data['title'].unique():\n",
    "    # Randomly sample 4 rows from the entire dataset\n",
    "    rating_history_samples = data.sample(4)\n",
    "    rating_history_str = ', '.join([f\"{row['title']} ({row['rating']} stars)\" for _, row in rating_history_samples.iterrows()])\n",
    "\n",
    "rating_history_str\n"
   ]
  },
  {
   "cell_type": "markdown",
   "metadata": {},
   "source": [
    "# References\n",
    "\n",
    "+ https://platform.openai.com/docs/api-reference/authentication"
   ]
  }
 ],
 "metadata": {
  "kernelspec": {
   "display_name": "Advanced_Programming_for_Data_Science",
   "language": "python",
   "name": "python3"
  },
  "language_info": {
   "codemirror_mode": {
    "name": "ipython",
    "version": 3
   },
   "file_extension": ".py",
   "mimetype": "text/x-python",
   "name": "python",
   "nbconvert_exporter": "python",
   "pygments_lexer": "ipython3",
   "version": "3.11.4"
  },
  "orig_nbformat": 4
 },
 "nbformat": 4,
 "nbformat_minor": 2
}
