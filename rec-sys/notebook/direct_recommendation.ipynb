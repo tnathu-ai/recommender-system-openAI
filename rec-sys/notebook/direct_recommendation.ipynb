{
 "cells": [
  {
   "cell_type": "code",
   "execution_count": 3,
   "metadata": {},
   "outputs": [
    {
     "name": "stdout",
     "output_type": "stream",
     "text": [
      "Zero-shot recommendation HR@5, NDCG@5: 1 1.0\n",
      "Zero-shot recommendation HR@10, NDCG@10: 1 1.0\n",
      "Few-shot recommendation HR@5, NDCG@5: 1 1.0\n",
      "Few-shot recommendation HR@10, NDCG@10: 1 1.0\n"
     ]
    }
   ],
   "source": [
    "import math\n",
    "\n",
    "def calculate_hr_ndcg(ground_truth, recommendation, k):\n",
    "    \"\"\"Calculate HR@k and NDCG@k metrics\"\"\"\n",
    "    hr = 1 if ground_truth in recommendation[:k] else 0\n",
    "    \n",
    "    try:\n",
    "        index = recommendation.index(ground_truth) + 1\n",
    "    except ValueError:\n",
    "        index = -1\n",
    "\n",
    "    if index <= k and index != -1:\n",
    "        dcg = 1 / math.log2(index + 1)\n",
    "    else:\n",
    "        dcg = 0\n",
    "\n",
    "    idcg = 1\n",
    "    ndcg = dcg / idcg\n",
    "\n",
    "    return hr, ndcg\n",
    "\n",
    "# Zero-shot case\n",
    "zero_shot_recommendation = ['Best Age Spot Remover', 'Rogaine for Women Hair Regrowth Treatment 3- 2 ounce bottles', 'TruSkin Vitamin C Serum for Face, Anti Aging Serum with Hyaluronic Acid, Vitamin E, Organic Aloe Vera and Jojoba Oil, Hydrating & Brightening Serum for Dark Spots, Fine Lines and Wrinkles, 1 fl oz', 'CeraVe Moisturizing Cream | Body and Face Moisturizer for Dry Skin | Body Cream with Hyaluronic Acid and Ceramides | 19 Ounce', 'Cetaphil Gentle Skin Cleanser for All Skin Types, 20 Fl Oz (Pack of 1)', 'Thayers Alcohol-Free Rose Petal Witch Hazel Facial Toner with Aloe Vera Formula - 12 oz', 'Aztec Secret – Indian Healing Clay 1 lb – Deep Pore Cleansing Facial & Body Mask – The Original 100% Natural Calcium Bentonite Clay – New Version 2', 'Mario Badescu Facial Spray with Aloe, Cucumber and Green Tea', 'Neutrogena Hydro Boost Hyaluronic Acid Hydrating Gel-Cream Face Moisturizer to Hydrate & Smooth Extra-Dry Skin, Oil-Free, Fragrance-Free, Non-Comedogenic & Dye-Free Face Lotion', \"L'Oreal Kids Extra Gentle 2-in-1 Shampoo With a Burst of Cherry Almond, 9.0 Fluid Ounce\"]\n",
    "zero_shot_ground_truth = 'Best Age Spot Remover'\n",
    "\n",
    "hr5, ndcg5 = calculate_hr_ndcg(zero_shot_ground_truth, zero_shot_recommendation, 5)\n",
    "hr10, ndcg10 = calculate_hr_ndcg(zero_shot_ground_truth, zero_shot_recommendation, 10)\n",
    "\n",
    "print(\"Zero-shot recommendation HR@5, NDCG@5:\", hr5, ndcg5)\n",
    "print(\"Zero-shot recommendation HR@10, NDCG@10:\", hr10, ndcg10)\n",
    "\n",
    "# Few-shot case\n",
    "few_shot_recommendation = ['Urban Decay All Nighter Long-Lasting Makeup Setting Spray 4 oz', 'Blinc Eyeliner Pencil - Black', 'Neutrogena Ultra Sheer Sunscreen SPF 45 Twin Pack 6.0 Ounce', 'Skin MD Natural + SPF15 combines the benefits of a shielding lotion and a sunscreen lotion', 'MASH Bamboo Reusable Cuticle Pushers Remover / Manicure Pedicure Stick', 'Classic Cotton Balls Jumbo Size, 100 Count']\n",
    "few_shot_ground_truth = 'Urban Decay All Nighter Long-Lasting Makeup Setting Spray 4 oz'\n",
    "\n",
    "hr5, ndcg5 = calculate_hr_ndcg(few_shot_ground_truth, few_shot_recommendation, 5)\n",
    "hr10, ndcg10 = calculate_hr_ndcg(few_shot_ground_truth, few_shot_recommendation, 10)\n",
    "\n",
    "print(\"Few-shot recommendation HR@5, NDCG@5:\", hr5, ndcg5)\n",
    "print(\"Few-shot recommendation HR@10, NDCG@10:\", hr10, ndcg10)\n"
   ]
  },
  {
   "cell_type": "code",
   "execution_count": null,
   "metadata": {},
   "outputs": [],
   "source": []
  }
 ],
 "metadata": {
  "kernelspec": {
   "display_name": "Advanced_Programming_for_Data_Science",
   "language": "python",
   "name": "python3"
  },
  "language_info": {
   "codemirror_mode": {
    "name": "ipython",
    "version": 3
   },
   "file_extension": ".py",
   "mimetype": "text/x-python",
   "name": "python",
   "nbconvert_exporter": "python",
   "pygments_lexer": "ipython3",
   "version": "3.10.4"
  },
  "orig_nbformat": 4
 },
 "nbformat": 4,
 "nbformat_minor": 2
}
