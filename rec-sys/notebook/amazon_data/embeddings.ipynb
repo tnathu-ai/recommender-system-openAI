{
 "cells": [
  {
   "cell_type": "code",
   "execution_count": 4,
   "metadata": {},
   "outputs": [
    {
     "name": "stdout",
     "output_type": "stream",
     "text": [
      "current directory: /Users/tnathu-ai/VSCode/recommender-system/recommender-system-openAI/rec-sys/data/amazon-beauty\n",
      "embedding model current directory: /Users/tnathu-ai/VSCode/recommender-system/recommender-system-openAI/rec-sys/models/embedding\n"
     ]
    }
   ],
   "source": [
    "# imports\n",
    "import pandas as pd\n",
    "import pickle\n",
    "import os\n",
    "import openai\n",
    "\n",
    "from openai.embeddings_utils import (\n",
    "    get_embedding,\n",
    "    distances_from_embeddings,\n",
    "    tsne_components_from_embeddings,\n",
    "    chart_from_components,\n",
    "    indices_of_nearest_neighbors_from_distances,\n",
    ")\n",
    "# Add the path to the constants file to the system path\n",
    "import sys\n",
    "sys.path.append('../../')\n",
    "from constants import RANDOM_STATE, OPENAI_API_KEY\n",
    "# OpenAI API Key\n",
    "openai.api_key = OPENAI_API_KEY\n",
    "# constants\n",
    "EMBEDDING_MODEL = \"text-embedding-ada-002\"\n",
    "\n",
    "# Get the current directory of the notebook\n",
    "current_dir = os.path.dirname(os.path.abspath(\"../../data/amazon-beauty/parse_and_clean_meta_data.ipynb\"))\n",
    "# # Get the current directory of the notebook\n",
    "embedding_model_current_dir = os.path.dirname(os.path.abspath(\"../../models/embedding/parse_and_clean_meta_data.ipynb\"))\n",
    "print(f\"current directory: {current_dir}\")\n",
    "print(f\"embedding model current directory: {embedding_model_current_dir}\")\n",
    "\n",
    "n_examples = 5"
   ]
  },
  {
   "cell_type": "code",
   "execution_count": 2,
   "metadata": {},
   "outputs": [
    {
     "name": "stdout",
     "output_type": "stream",
     "text": [
      "data path: /Users/tnathu-ai/VSCode/recommender-system/recommender-system-openAI/rec-sys/data/amazon-beauty/merged_data.csv\n"
     ]
    },
    {
     "data": {
      "text/html": [
       "<div>\n",
       "<style scoped>\n",
       "    .dataframe tbody tr th:only-of-type {\n",
       "        vertical-align: middle;\n",
       "    }\n",
       "\n",
       "    .dataframe tbody tr th {\n",
       "        vertical-align: top;\n",
       "    }\n",
       "\n",
       "    .dataframe thead th {\n",
       "        text-align: right;\n",
       "    }\n",
       "</style>\n",
       "<table border=\"1\" class=\"dataframe\">\n",
       "  <thead>\n",
       "    <tr style=\"text-align: right;\">\n",
       "      <th></th>\n",
       "      <th>rating</th>\n",
       "      <th>reviewerID</th>\n",
       "      <th>asin</th>\n",
       "      <th>reviewText</th>\n",
       "      <th>summary</th>\n",
       "      <th>title</th>\n",
       "    </tr>\n",
       "  </thead>\n",
       "  <tbody>\n",
       "    <tr>\n",
       "      <th>0</th>\n",
       "      <td>5.0</td>\n",
       "      <td>ANV9L0JU6BNL</td>\n",
       "      <td>B000052YAN</td>\n",
       "      <td>best floss i've used. does not break as easily...</td>\n",
       "      <td>best floss i've used</td>\n",
       "      <td>Reach Dentotape Waxed Dental Floss with Extra ...</td>\n",
       "    </tr>\n",
       "    <tr>\n",
       "      <th>1</th>\n",
       "      <td>5.0</td>\n",
       "      <td>ANV9L0JU6BNL</td>\n",
       "      <td>B000052YAN</td>\n",
       "      <td>best floss i've used. does not break as easily...</td>\n",
       "      <td>best floss i've used</td>\n",
       "      <td>Reach Dentotape Waxed Dental Floss with Extra ...</td>\n",
       "    </tr>\n",
       "    <tr>\n",
       "      <th>2</th>\n",
       "      <td>2.0</td>\n",
       "      <td>A2TU781PWGS09X</td>\n",
       "      <td>B00006L9LC</td>\n",
       "      <td>Doesnt smell</td>\n",
       "      <td>Two Stars</td>\n",
       "      <td>Citre Shine Moisture Burst Shampoo - 16 fl oz</td>\n",
       "    </tr>\n",
       "    <tr>\n",
       "      <th>3</th>\n",
       "      <td>2.0</td>\n",
       "      <td>A2TU781PWGS09X</td>\n",
       "      <td>B00006L9LC</td>\n",
       "      <td>Doesnt smell</td>\n",
       "      <td>Two Stars</td>\n",
       "      <td>Citre Shine Moisture Burst Shampoo - 16 fl oz</td>\n",
       "    </tr>\n",
       "    <tr>\n",
       "      <th>4</th>\n",
       "      <td>5.0</td>\n",
       "      <td>A3A8F2URN7MEPR</td>\n",
       "      <td>B00006L9LC</td>\n",
       "      <td>My favorite powder!</td>\n",
       "      <td>Five Stars</td>\n",
       "      <td>Citre Shine Moisture Burst Shampoo - 16 fl oz</td>\n",
       "    </tr>\n",
       "  </tbody>\n",
       "</table>\n",
       "</div>"
      ],
      "text/plain": [
       "   rating      reviewerID        asin  \\\n",
       "0     5.0    ANV9L0JU6BNL  B000052YAN   \n",
       "1     5.0    ANV9L0JU6BNL  B000052YAN   \n",
       "2     2.0  A2TU781PWGS09X  B00006L9LC   \n",
       "3     2.0  A2TU781PWGS09X  B00006L9LC   \n",
       "4     5.0  A3A8F2URN7MEPR  B00006L9LC   \n",
       "\n",
       "                                          reviewText               summary  \\\n",
       "0  best floss i've used. does not break as easily...  best floss i've used   \n",
       "1  best floss i've used. does not break as easily...  best floss i've used   \n",
       "2                                       Doesnt smell             Two Stars   \n",
       "3                                       Doesnt smell             Two Stars   \n",
       "4                                My favorite powder!            Five Stars   \n",
       "\n",
       "                                               title  \n",
       "0  Reach Dentotape Waxed Dental Floss with Extra ...  \n",
       "1  Reach Dentotape Waxed Dental Floss with Extra ...  \n",
       "2      Citre Shine Moisture Burst Shampoo - 16 fl oz  \n",
       "3      Citre Shine Moisture Burst Shampoo - 16 fl oz  \n",
       "4      Citre Shine Moisture Burst Shampoo - 16 fl oz  "
      ]
     },
     "execution_count": 2,
     "metadata": {},
     "output_type": "execute_result"
    }
   ],
   "source": [
    "# Construct the path to data file\n",
    "data_path = os.path.join(current_dir, 'merged_data.csv')\n",
    "print(f'data path: {data_path}')\n",
    "# load data (full dataset available at http://groups.di.unipi.it/~gulli/AG_corpus_of_news_articles.html)\n",
    "dataset_path = data_path\n",
    "df = pd.read_csv(dataset_path)\n",
    "\n",
    "df.head(n_examples)"
   ]
  },
  {
   "cell_type": "code",
   "execution_count": 3,
   "metadata": {},
   "outputs": [
    {
     "name": "stdout",
     "output_type": "stream",
     "text": [
      "\n",
      "Title: Reach Dentotape Waxed Dental Floss with Extra Wide Cleaning Surface for Large Spaces between Teeth, Unflavored, 100 Yards\n",
      "Review: best floss i've used. does not break as easily as others, and i have tight teeth.\n",
      "Rating: 5.0\n",
      "\n",
      "Title: Reach Dentotape Waxed Dental Floss with Extra Wide Cleaning Surface for Large Spaces between Teeth, Unflavored, 100 Yards\n",
      "Review: best floss i've used. does not break as easily as others, and i have tight teeth.\n",
      "Rating: 5.0\n",
      "\n",
      "Title: Citre Shine Moisture Burst Shampoo - 16 fl oz\n",
      "Review: Doesnt smell\n",
      "Rating: 2.0\n",
      "\n",
      "Title: Citre Shine Moisture Burst Shampoo - 16 fl oz\n",
      "Review: Doesnt smell\n",
      "Rating: 2.0\n",
      "\n",
      "Title: Citre Shine Moisture Burst Shampoo - 16 fl oz\n",
      "Review: My favorite powder!\n",
      "Rating: 5.0\n"
     ]
    }
   ],
   "source": [
    "# print the title, reviewText, and rating of each example\n",
    "for idx, row in df.head(n_examples).iterrows():\n",
    "    print(\"\")\n",
    "    print(f\"Title: {row['title']}\")\n",
    "    print(f\"Review: {row['reviewText']}\")\n",
    "    print(f\"Rating: {row['rating']}\")"
   ]
  },
  {
   "cell_type": "markdown",
   "metadata": {},
   "source": [
    "# Build cache to save embeddings\n",
    "\n",
    "+ Save our embeddings so we can re-use them later.\n",
    "+ The cache is a dictionary that maps tuples of `(text, model)` to an embedding, which is a list of floats. The cache is saved as a Python pickle file.\n",
    "\n"
   ]
  },
  {
   "cell_type": "code",
   "execution_count": 5,
   "metadata": {},
   "outputs": [],
   "source": [
    "# establish a cache of embeddings to avoid recomputing\n",
    "# cache is a dict of tuples (text, model) -> embedding, saved as a pickle file\n",
    "\n",
    "# set path to embedding cache\n",
    "# Construct the path to data file\n",
    "embedding_cache_path = os.path.join(current_dir, 'amazon_embeddings_cache.pkl')\n",
    "\n",
    "# load the cache if it exists, and save a copy to disk\n",
    "try:\n",
    "    embedding_cache = pd.read_pickle(embedding_cache_path)\n",
    "except FileNotFoundError:\n",
    "    embedding_cache = {}\n",
    "with open(embedding_cache_path, \"wb\") as embedding_cache_file:\n",
    "    pickle.dump(embedding_cache, embedding_cache_file)\n",
    "\n",
    "# define a function to retrieve embeddings from the cache if present, and otherwise request via the API\n",
    "def embedding_from_string(\n",
    "    string: str,\n",
    "    model: str = EMBEDDING_MODEL,\n",
    "    embedding_cache=embedding_cache\n",
    ") -> list:\n",
    "    \"\"\"Return embedding of given string, using a cache to avoid recomputing.\"\"\"\n",
    "    if (string, model) not in embedding_cache.keys():\n",
    "        embedding_cache[(string, model)] = get_embedding(string, model)\n",
    "        with open(embedding_cache_path, \"wb\") as embedding_cache_file:\n",
    "            pickle.dump(embedding_cache, embedding_cache_file)\n",
    "    return embedding_cache[(string, model)]"
   ]
  },
  {
   "cell_type": "code",
   "execution_count": 7,
   "metadata": {},
   "outputs": [
    {
     "name": "stdout",
     "output_type": "stream",
     "text": [
      "\n",
      "Example string: Reach Dentotape Waxed Dental Floss with Extra Wide Cleaning Surface for Large Spaces between Teeth, Unflavored, 100 Yards\n",
      "\n",
      "Example embedding: [0.008420577272772789, 0.004031274002045393, 0.006344694644212723, -0.005752569064497948, 0.0015130186220631003, 0.003907340578734875, 0.001457076519727707, -0.006193220615386963, -0.007332718465477228, 0.0009880235884338617]...\n"
     ]
    }
   ],
   "source": [
    "# as an example, take the first description from the dataset\n",
    "example_string = df[\"title\"].values[0]\n",
    "print(f\"\\nExample string: {example_string}\")\n",
    "\n",
    "# print the first 10 dimensions of the embedding\n",
    "example_embedding = embedding_from_string(example_string)\n",
    "print(f\"\\nExample embedding: {example_embedding[:10]}...\")"
   ]
  },
  {
   "cell_type": "markdown",
   "metadata": {},
   "source": [
    "# References\n",
    "\n",
    "+ https://cookbook.openai.com/examples/recommendation_using_embeddings"
   ]
  },
  {
   "cell_type": "markdown",
   "metadata": {},
   "source": []
  }
 ],
 "metadata": {
  "kernelspec": {
   "display_name": "test",
   "language": "python",
   "name": "python3"
  },
  "language_info": {
   "codemirror_mode": {
    "name": "ipython",
    "version": 3
   },
   "file_extension": ".py",
   "mimetype": "text/x-python",
   "name": "python",
   "nbconvert_exporter": "python",
   "pygments_lexer": "ipython3",
   "version": "3.11.4"
  },
  "orig_nbformat": 4
 },
 "nbformat": 4,
 "nbformat_minor": 2
}
