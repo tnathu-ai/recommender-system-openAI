{
 "cells": [
  {
   "cell_type": "code",
   "execution_count": 16,
   "metadata": {},
   "outputs": [
    {
     "name": "stdout",
     "output_type": "stream",
     "text": [
      "current directory: /Users/tnathu-ai/VSCode/recommender-system/recommender-system-openAI/rec-sys/data/amazon-beauty\n"
     ]
    }
   ],
   "source": [
    "import numpy as np\n",
    "import openai\n",
    "import pandas as pd\n",
    "import os\n",
    "from sklearn.metrics import mean_squared_error, mean_absolute_error\n",
    "import sys\n",
    "import re\n",
    "import time\n",
    "from tenacity import retry, wait_random_exponential, stop_after_attempt\n",
    "\n",
    "# Add the path to the constants file to the system path\n",
    "sys.path.append('../../')\n",
    "from constants import *\n",
    "from evaluation_utils import *\n",
    "from ChatCompletion_OpenAI_API import *\n",
    "\n",
    "# OpenAI API Key\n",
    "openai.api_key = OPENAI_API_KEY\n",
    "\n",
    "# Get the current directory of the notebook\n",
    "current_dir = os.path.dirname(os.path.abspath(\"../../data/amazon-beauty/rating_prediction.ipynb\"))\n",
    "print(f\"current directory: {current_dir}\")"
   ]
  },
  {
   "cell_type": "markdown",
   "metadata": {},
   "source": [
    "# RMSE & MAE evaluation metrics"
   ]
  },
  {
   "cell_type": "code",
   "execution_count": 17,
   "metadata": {},
   "outputs": [
    {
     "name": "stdout",
     "output_type": "stream",
     "text": [
      "RMSE:  1.0\n",
      "MAE:  1.0\n"
     ]
    }
   ],
   "source": [
    "# Test\n",
    "actual_ratings = [4, 4]  # Ground truth ratings\n",
    "predicted_ratings = [3, 5]  # Predicted ratings\n",
    "rmse, mae = calculate_rmse_and_mae(actual_ratings, predicted_ratings)\n",
    "print(\"RMSE: \", rmse)\n",
    "print(\"MAE: \", mae)\n"
   ]
  },
  {
   "cell_type": "markdown",
   "metadata": {},
   "source": [
    "# Data Overview"
   ]
  },
  {
   "cell_type": "code",
   "execution_count": 18,
   "metadata": {},
   "outputs": [
    {
     "name": "stdout",
     "output_type": "stream",
     "text": [
      "data path: /Users/tnathu-ai/VSCode/recommender-system/recommender-system-openAI/rec-sys/data/amazon-beauty/merged_data.csv\n"
     ]
    }
   ],
   "source": [
    "# Construct the path to data file\n",
    "data_path = os.path.join(current_dir, 'merged_data.csv')\n",
    "print(f'data path: {data_path}')"
   ]
  },
  {
   "cell_type": "code",
   "execution_count": 19,
   "metadata": {},
   "outputs": [
    {
     "name": "stdout",
     "output_type": "stream",
     "text": [
      "<class 'pandas.core.frame.DataFrame'>\n",
      "RangeIndex: 34 entries, 0 to 33\n",
      "Data columns (total 4 columns):\n",
      " #   Column      Non-Null Count  Dtype  \n",
      "---  ------      --------------  -----  \n",
      " 0   title       34 non-null     object \n",
      " 1   rating      34 non-null     float64\n",
      " 2   reviewText  34 non-null     object \n",
      " 3   reviewerID  34 non-null     object \n",
      "dtypes: float64(1), object(3)\n",
      "memory usage: 1.2+ KB\n"
     ]
    },
    {
     "data": {
      "text/html": [
       "<div>\n",
       "<style scoped>\n",
       "    .dataframe tbody tr th:only-of-type {\n",
       "        vertical-align: middle;\n",
       "    }\n",
       "\n",
       "    .dataframe tbody tr th {\n",
       "        vertical-align: top;\n",
       "    }\n",
       "\n",
       "    .dataframe thead th {\n",
       "        text-align: right;\n",
       "    }\n",
       "</style>\n",
       "<table border=\"1\" class=\"dataframe\">\n",
       "  <thead>\n",
       "    <tr style=\"text-align: right;\">\n",
       "      <th></th>\n",
       "      <th>title</th>\n",
       "      <th>rating</th>\n",
       "      <th>reviewText</th>\n",
       "      <th>reviewerID</th>\n",
       "    </tr>\n",
       "  </thead>\n",
       "  <tbody>\n",
       "    <tr>\n",
       "      <th>0</th>\n",
       "      <td>Reach Dentotape Waxed Dental Floss with Extra ...</td>\n",
       "      <td>5.0</td>\n",
       "      <td>best floss i've used. does not break as easily...</td>\n",
       "      <td>ANV9L0JU6BNL</td>\n",
       "    </tr>\n",
       "    <tr>\n",
       "      <th>1</th>\n",
       "      <td>Reach Dentotape Waxed Dental Floss with Extra ...</td>\n",
       "      <td>5.0</td>\n",
       "      <td>best floss i've used. does not break as easily...</td>\n",
       "      <td>ANV9L0JU6BNL</td>\n",
       "    </tr>\n",
       "    <tr>\n",
       "      <th>2</th>\n",
       "      <td>Citre Shine Moisture Burst Shampoo - 16 fl oz</td>\n",
       "      <td>2.0</td>\n",
       "      <td>Doesnt smell</td>\n",
       "      <td>A2TU781PWGS09X</td>\n",
       "    </tr>\n",
       "  </tbody>\n",
       "</table>\n",
       "</div>"
      ],
      "text/plain": [
       "                                               title  rating  \\\n",
       "0  Reach Dentotape Waxed Dental Floss with Extra ...     5.0   \n",
       "1  Reach Dentotape Waxed Dental Floss with Extra ...     5.0   \n",
       "2      Citre Shine Moisture Burst Shampoo - 16 fl oz     2.0   \n",
       "\n",
       "                                          reviewText      reviewerID  \n",
       "0  best floss i've used. does not break as easily...    ANV9L0JU6BNL  \n",
       "1  best floss i've used. does not break as easily...    ANV9L0JU6BNL  \n",
       "2                                       Doesnt smell  A2TU781PWGS09X  "
      ]
     },
     "execution_count": 19,
     "metadata": {},
     "output_type": "execute_result"
    }
   ],
   "source": [
    "# Read the data\n",
    "data = pd.read_csv(data_path)\n",
    "# get necessary columns\n",
    "data = data[['title', 'rating', 'reviewText', 'reviewerID']]\n",
    "# get sample data of NUM_SAMPLES rows\n",
    "data.info()\n",
    "data.head(3)\n"
   ]
  },
  {
   "cell_type": "markdown",
   "metadata": {},
   "source": [
    "# Zero-shot (OpenAI API)\n",
    "\n",
    "+ We used the ``.drop_duplicates()`` method to get unique pairs of \"title\" and \"reviewText\". The predictions are then based on both the title and the corresponding review text for each unique pair."
   ]
  },
  {
   "cell_type": "code",
   "execution_count": 9,
   "metadata": {},
   "outputs": [
    {
     "name": "stdout",
     "output_type": "stream",
     "text": [
      "Predicted rating for Reach Dentotape Waxed Dental Floss with Extra Wide Cleaning Surface for Large Spaces between Teeth, Unflavored, 100 Yards: 5.0\n",
      "Predicted rating for Citre Shine Moisture Burst Shampoo - 16 fl oz: 3.0\n",
      "Predicted rating for Citre Shine Moisture Burst Shampoo - 16 fl oz: 4.0\n",
      "Predicted rating for Bonne Bell Smackers Bath and Body Starburst Collection: 3.0\n",
      "Predicted rating for Bonne Bell Smackers Bath and Body Starburst Collection: 4.0\n",
      "Predicted rating for Bath &amp; Body Works Ile De Tahiti Moana Coconut Vanille Moana Body Wash with Tamanoi 8.5 oz: 3.0\n",
      "Predicted rating for Bath &amp; Body Works Ile De Tahiti Moana Coconut Vanille Moana Body Wash with Tamanoi 8.5 oz: 4.0\n",
      "Predicted rating for Zapzyt Maximum Strength 10% Benzoyl Peroxide Acne Treatment Gel, 1 Ounce: 5.0\n",
      "Predicted rating for Avalon Grapefruit and Geranium Smoothing Shampoo, 11 Ounce: 3.0\n",
      "Predicted rating for Avalon Grapefruit and Geranium Smoothing Shampoo, 11 Ounce: 4.0\n",
      "Pausing for 60 seconds...\n",
      "Predicted rating for Astra Platinum Double Edge Safety Razor Blades ,100 Blades (20 x 5): 5.0\n",
      "Predicted rating for Mehron Makeup Skin Prep Pro (4 oz): 4.0\n",
      "Predicted rating for Vktech&reg; 20pcs Mix Colors Rhinestone Nose Studs Ring Bone Bar Pin Piercing Jewelry: 5.0\n",
      "Predicted rating for Vintage Cinderella Pumpkin Carriage Locket Pendant Chain Necklace Xmas Gift: 4.0\n",
      "Predicted rating for Professional Waterproof Black Elegant EyeLiner Beauty Gel Mascara + Eyeliner Brush Makeup Tools: 4.0\n",
      "Predicted rating for Charming Silver Colored Earring / Ear Cuff / Clip In Snake / Spiral Shape By VAGA: 5.0\n",
      "Predicted rating for Maquita Waterproof Portable Face Facial Highlighter Stick Shimmer Powder Makeup Silver: 4.0\n",
      "Predicted rating for Maquita Waterproof Portable Face Facial Highlighter Stick Shimmer Powder Makeup Silver: 4.0\n",
      "Predicted rating for ROPALIA Cosmetic Makeup Waterproof Moisturize Lipstick Lip Stick Lip Gloss: 2.0\n",
      "Predicted rating for Weixinbuy 1PC Secret Jelly Lipstick Color Changing Long Lasting Lip Gloss Random Color: 5.0\n",
      "Pausing for 60 seconds...\n",
      "Predicted rating for Oud Wood Oil. IMPRESSION of Tom Ford Oud Wood* Cologne for Men with SIMILAR Fragrance Accords, 10ml Amber Glass Roller, Black Cap; 100% Pure (Perfume Studio Oud Wood VERSION/TYPE; Not Original Brand): 3.0\n",
      "Predicted rating for ABASSKY Lip Gloss Lipstick Matte Velvet Waterproof Super Long Lasting Not Fade (#18): 4.0\n",
      "Predicted rating for BIOAQUA 24K Gold Essence Collagen Skin Face Moisturizing Hyaluronic Acid Mask: 4.0\n",
      "Predicted rating for Urparcel Liquid Foundation Smooth Natural Long Lasting Makeup Beauty Cosmetics: 4.0\n",
      "Predicted rating for (Pack of 3) L.A. Colors Mineral Pressed Powder #Mp303 &quot;Creamy Natural&quot;: 4.0\n",
      "Predicted rating for Orangesky Professional 15 Concealer Camouflage Foundation Makeup Palette: 5.0\n",
      "Predicted rating for Dolce &amp; Gabbana Compact Parfum, 0.05 Ounce: 2.0\n",
      "Predicted rating for Sankuwen 15PCs Wool Makeup Brush Set Tools Toiletry Kit: 5.0\n",
      "CPU times: user 212 ms, sys: 40.2 ms, total: 252 ms\n",
      "Wall time: 12min 21s\n"
     ]
    }
   ],
   "source": [
    "%%time\n",
    "\n",
    "# Function to predict rating using both title and reviewText\n",
    "def predict_rating_zero_shot_with_review(title, review):\n",
    "    return predict_rating_zero_shot_ChatCompletion(f\"{title}. {review}\")\n",
    "\n",
    "# Iterate through the dataset and predict ratings\n",
    "predicted_ratings = []\n",
    "unique_pairs = data[['title', 'reviewText']].drop_duplicates().values\n",
    "for idx, (title, review) in enumerate(unique_pairs):\n",
    "    predicted_rating = predict_rating_zero_shot_with_review(title, review)\n",
    "    print(f\"Predicted rating for {title}: {predicted_rating}\")\n",
    "    predicted_ratings.append(predicted_rating)\n",
    "    \n",
    "    # Pause every PAUSE_EVERY_N_USERS rows\n",
    "    if (idx + 1) % PAUSE_EVERY_N_USERS == 0:\n",
    "        print(f\"Pausing for {SLEEP_TIME} seconds...\")\n",
    "        time.sleep(SLEEP_TIME)\n",
    "\n",
    "# Create a DataFrame with titles, reviewText and predicted ratings\n",
    "predicted_ratings_df = pd.DataFrame({\n",
    "    'title': unique_pairs[:, 0],\n",
    "    'reviewText': unique_pairs[:, 1],\n",
    "    'zero_shot_predicted_rating': predicted_ratings\n",
    "})\n",
    "\n",
    "# Merge the predicted ratings with the original data\n",
    "merged_data_with_predictions = pd.merge(data, predicted_ratings_df, on=['title', 'reviewText'])\n",
    "\n",
    "# Save the merged data with predictions to a new CSV file\n",
    "merged_data_with_predictions.to_csv('../../data/amazon-beauty/reviewText_small_predictions_zero_shot.csv', index=False)\n"
   ]
  },
  {
   "cell_type": "code",
   "execution_count": 10,
   "metadata": {},
   "outputs": [
    {
     "name": "stdout",
     "output_type": "stream",
     "text": [
      "Root Mean Squared Error (RMSE): 1.3758114488755873\n",
      "Mean Absolute Error (MAE): 1.1071428571428572\n"
     ]
    }
   ],
   "source": [
    "# evaluate the rating prediction model\n",
    "\n",
    "product_titles = merged_data_with_predictions['title']\n",
    "actual_ratings = merged_data_with_predictions['rating']\n",
    "\n",
    "# Remove None predictions if any\n",
    "actual_ratings_filtered, predicted_ratings_filtered = zip(*[(actual, predicted) for actual, predicted in zip(actual_ratings, predicted_ratings) if predicted is not None])\n",
    "\n",
    "# Calculate RMSE\n",
    "rmse = np.sqrt(mean_squared_error(actual_ratings_filtered, predicted_ratings_filtered))\n",
    "print(f'Root Mean Squared Error (RMSE): {rmse}')\n",
    "\n",
    "# Calculate MAE\n",
    "mae = mean_absolute_error(actual_ratings_filtered, predicted_ratings_filtered)\n",
    "print(f'Mean Absolute Error (MAE): {mae}')\n"
   ]
  },
  {
   "cell_type": "markdown",
   "metadata": {},
   "source": [
    "# Few-shot (OpenAI API)\n",
    "\n",
    "\n",
    "+ For each user, we'll use 4 of their ratings as training data to predict ratings for the rest of their products. Finally, we'll evaluate the predictions against the actual ratings to calculate the overall RMSE and MAE.\n",
    "\n",
    "+ The rating_history_str now includes both the title and the review text for each of the training data rows"
   ]
  },
  {
   "cell_type": "code",
   "execution_count": 11,
   "metadata": {},
   "outputs": [
    {
     "name": "stdout",
     "output_type": "stream",
     "text": [
      "Unexpected response for 'Citre Shine Moisture Burst Shampoo - 16 fl oz. My favorite powder!': Based on the user's rating history, I cannot determine a rating for the product 'Citre Shine Moisture Burst Shampoo - 16 fl oz.'\n",
      "Unexpected response for 'Citre Shine Moisture Burst Shampoo - 16 fl oz. My favorite powder!': Based on the user's rating history, I cannot determine a rating for the product 'Citre Shine Moisture Burst Shampoo - 16 fl oz.'\n",
      "CPU times: user 102 ms, sys: 12.5 ms, total: 115 ms\n",
      "Wall time: 10min 30s\n"
     ]
    },
    {
     "data": {
      "text/html": [
       "<div>\n",
       "<style scoped>\n",
       "    .dataframe tbody tr th:only-of-type {\n",
       "        vertical-align: middle;\n",
       "    }\n",
       "\n",
       "    .dataframe tbody tr th {\n",
       "        vertical-align: top;\n",
       "    }\n",
       "\n",
       "    .dataframe thead th {\n",
       "        text-align: right;\n",
       "    }\n",
       "</style>\n",
       "<table border=\"1\" class=\"dataframe\">\n",
       "  <thead>\n",
       "    <tr style=\"text-align: right;\">\n",
       "      <th></th>\n",
       "      <th>few_shot_predicted_rating</th>\n",
       "      <th>actual_rating</th>\n",
       "    </tr>\n",
       "  </thead>\n",
       "  <tbody>\n",
       "    <tr>\n",
       "      <th>0</th>\n",
       "      <td>5.0</td>\n",
       "      <td>5.0</td>\n",
       "    </tr>\n",
       "    <tr>\n",
       "      <th>1</th>\n",
       "      <td>5.0</td>\n",
       "      <td>5.0</td>\n",
       "    </tr>\n",
       "    <tr>\n",
       "      <th>2</th>\n",
       "      <td>2.0</td>\n",
       "      <td>2.0</td>\n",
       "    </tr>\n",
       "  </tbody>\n",
       "</table>\n",
       "</div>"
      ],
      "text/plain": [
       "   few_shot_predicted_rating  actual_rating\n",
       "0                        5.0            5.0\n",
       "1                        5.0            5.0\n",
       "2                        2.0            2.0"
      ]
     },
     "execution_count": 11,
     "metadata": {},
     "output_type": "execute_result"
    }
   ],
   "source": [
    "%%time\n",
    "\n",
    "# Function to predict rating using both title and reviewText with user's rating history\n",
    "def predict_rating_few_shot_with_review(title, review, rating_history_str):\n",
    "    return predict_rating_few_shot_ChatCompletion(f\"{title}. {review}\", rating_history_str)\n",
    "\n",
    "predicted_ratings = []\n",
    "actual_ratings = []\n",
    "\n",
    "# For each user in the dataset\n",
    "users = data['reviewerID'].unique()\n",
    "for idx, reviewerID in enumerate(users):\n",
    "    user_data = data[data['reviewerID'] == reviewerID]\n",
    "    \n",
    "    # Check if the user has at least 5 ratings\n",
    "    if len(user_data) >= 5:\n",
    "        train_data = user_data.sample(4, random_state=RANDOM_STATE)\n",
    "        test_data = user_data.drop(train_data.index)\n",
    "\n",
    "        # For each product in the testing set, use the training data to predict a rating\n",
    "        for _, test_row in test_data.iterrows():\n",
    "            rating_history_str = ', '.join([f\"{row['title']} ({row['rating']} stars): {row['reviewText']}\" for _, row in train_data.iterrows()])\n",
    "            predicted_rating = predict_rating_few_shot_with_review(test_row['title'], test_row['reviewText'], rating_history_str)\n",
    "            \n",
    "            predicted_ratings.append(predicted_rating)\n",
    "            actual_ratings.append(test_row['rating'])\n",
    "    \n",
    "    # Introduce a pause after processing every PAUSE_EVERY_N_USERS\n",
    "    if (idx + 1) % PAUSE_EVERY_N_USERS == 0:\n",
    "        print(f\"Processed {idx + 1} users. Pausing for {SLEEP_TIME} seconds...\")\n",
    "        time.sleep(SLEEP_TIME)\n",
    "\n",
    "# Save the predicted ratings to a new CSV file\n",
    "predicted_ratings_df = pd.DataFrame({\n",
    "    'few_shot_predicted_rating': predicted_ratings,\n",
    "    'actual_rating': actual_ratings\n",
    "})\n",
    "predicted_ratings_df.to_csv('../../data/amazon-beauty/reviewText_small_predictions_few_shot.csv', index=False)\n",
    "\n",
    "predicted_ratings_df.head(3)\n"
   ]
  },
  {
   "cell_type": "code",
   "execution_count": 12,
   "metadata": {},
   "outputs": [
    {
     "data": {
      "text/html": [
       "<div>\n",
       "<style scoped>\n",
       "    .dataframe tbody tr th:only-of-type {\n",
       "        vertical-align: middle;\n",
       "    }\n",
       "\n",
       "    .dataframe tbody tr th {\n",
       "        vertical-align: top;\n",
       "    }\n",
       "\n",
       "    .dataframe thead th {\n",
       "        text-align: right;\n",
       "    }\n",
       "</style>\n",
       "<table border=\"1\" class=\"dataframe\">\n",
       "  <thead>\n",
       "    <tr style=\"text-align: right;\">\n",
       "      <th></th>\n",
       "      <th>few_shot_predicted_rating</th>\n",
       "      <th>actual_rating</th>\n",
       "    </tr>\n",
       "  </thead>\n",
       "  <tbody>\n",
       "    <tr>\n",
       "      <th>0</th>\n",
       "      <td>5.0</td>\n",
       "      <td>5.0</td>\n",
       "    </tr>\n",
       "    <tr>\n",
       "      <th>1</th>\n",
       "      <td>5.0</td>\n",
       "      <td>5.0</td>\n",
       "    </tr>\n",
       "    <tr>\n",
       "      <th>2</th>\n",
       "      <td>2.0</td>\n",
       "      <td>2.0</td>\n",
       "    </tr>\n",
       "    <tr>\n",
       "      <th>3</th>\n",
       "      <td>2.0</td>\n",
       "      <td>2.0</td>\n",
       "    </tr>\n",
       "    <tr>\n",
       "      <th>4</th>\n",
       "      <td>2.0</td>\n",
       "      <td>2.0</td>\n",
       "    </tr>\n",
       "  </tbody>\n",
       "</table>\n",
       "</div>"
      ],
      "text/plain": [
       "   few_shot_predicted_rating  actual_rating\n",
       "0                        5.0            5.0\n",
       "1                        5.0            5.0\n",
       "2                        2.0            2.0\n",
       "3                        2.0            2.0\n",
       "4                        2.0            2.0"
      ]
     },
     "execution_count": 12,
     "metadata": {},
     "output_type": "execute_result"
    }
   ],
   "source": [
    "# load data from ../../data/amazon-beauty/small_predictions_few_shot.csv file\n",
    "small_predictions_few_shot = pd.read_csv('../../data/amazon-beauty/reviewText_small_predictions_few_shot.csv')\n",
    "small_predictions_few_shot.head(NUM_EXAMPLES)"
   ]
  },
  {
   "cell_type": "code",
   "execution_count": 13,
   "metadata": {},
   "outputs": [
    {
     "name": "stdout",
     "output_type": "stream",
     "text": [
      "Root Mean Squared Error (RMSE): 1.9456912102680337\n",
      "Mean Absolute Error (MAE): 0.9285714285714286\n"
     ]
    }
   ],
   "source": [
    "# convert few_shot_predicted_rating column to list\n",
    "predicted_ratings = small_predictions_few_shot['few_shot_predicted_rating'].tolist()\n",
    "# convert actual_rating column to list\n",
    "actual_ratings = small_predictions_few_shot['actual_rating'].tolist()\n",
    "filtered_list = [(actual, predicted) for actual, predicted in zip(actual_ratings, predicted_ratings) if predicted is not None]\n",
    "\n",
    "if not filtered_list:\n",
    "    print(\"No valid predictions available for evaluation.\")\n",
    "else:\n",
    "    actual_ratings_filtered, predicted_ratings_filtered = zip(*filtered_list)\n",
    "    # Evaluate the model's performance\n",
    "    rmse = np.sqrt(mean_squared_error(actual_ratings_filtered, predicted_ratings_filtered))\n",
    "    print(f'Root Mean Squared Error (RMSE): {rmse}')\n",
    "\n",
    "    mae = mean_absolute_error(actual_ratings_filtered, predicted_ratings_filtered)\n",
    "    print(f'Mean Absolute Error (MAE): {mae}')\n"
   ]
  },
  {
   "cell_type": "markdown",
   "metadata": {},
   "source": [
    "# 1 observation per reviewer - Few-shot OpenAI"
   ]
  },
  {
   "cell_type": "code",
   "execution_count": 14,
   "metadata": {},
   "outputs": [
    {
     "name": "stdout",
     "output_type": "stream",
     "text": [
      "CPU times: user 21.4 ms, sys: 3.46 ms, total: 24.9 ms\n",
      "Wall time: 9.59 s\n"
     ]
    },
    {
     "data": {
      "text/html": [
       "<div>\n",
       "<style scoped>\n",
       "    .dataframe tbody tr th:only-of-type {\n",
       "        vertical-align: middle;\n",
       "    }\n",
       "\n",
       "    .dataframe tbody tr th {\n",
       "        vertical-align: top;\n",
       "    }\n",
       "\n",
       "    .dataframe thead th {\n",
       "        text-align: right;\n",
       "    }\n",
       "</style>\n",
       "<table border=\"1\" class=\"dataframe\">\n",
       "  <thead>\n",
       "    <tr style=\"text-align: right;\">\n",
       "      <th></th>\n",
       "      <th>few_shot_predicted_rating</th>\n",
       "      <th>actual_rating</th>\n",
       "    </tr>\n",
       "  </thead>\n",
       "  <tbody>\n",
       "    <tr>\n",
       "      <th>0</th>\n",
       "      <td>5.0</td>\n",
       "      <td>5.0</td>\n",
       "    </tr>\n",
       "    <tr>\n",
       "      <th>1</th>\n",
       "      <td>2.0</td>\n",
       "      <td>2.0</td>\n",
       "    </tr>\n",
       "    <tr>\n",
       "      <th>2</th>\n",
       "      <td>5.0</td>\n",
       "      <td>5.0</td>\n",
       "    </tr>\n",
       "    <tr>\n",
       "      <th>3</th>\n",
       "      <td>4.0</td>\n",
       "      <td>5.0</td>\n",
       "    </tr>\n",
       "    <tr>\n",
       "      <th>4</th>\n",
       "      <td>2.0</td>\n",
       "      <td>3.0</td>\n",
       "    </tr>\n",
       "  </tbody>\n",
       "</table>\n",
       "</div>"
      ],
      "text/plain": [
       "   few_shot_predicted_rating  actual_rating\n",
       "0                        5.0            5.0\n",
       "1                        2.0            2.0\n",
       "2                        5.0            5.0\n",
       "3                        4.0            5.0\n",
       "4                        2.0            3.0"
      ]
     },
     "execution_count": 14,
     "metadata": {},
     "output_type": "execute_result"
    }
   ],
   "source": [
    "%%time\n",
    "\n",
    "# Function to predict rating using both title and reviewText with user's rating history\n",
    "def predict_rating_few_shot_with_review(title, review, rating_history_str):\n",
    "    return predict_rating_few_shot_ChatCompletion(f\"{title}. {review}\", rating_history_str)\n",
    "\n",
    "\n",
    "predicted_ratings = []\n",
    "actual_ratings = []\n",
    "\n",
    "# For each user in the dataset\n",
    "users = data['reviewerID'].unique()\n",
    "for idx, reviewerID in enumerate(users):\n",
    "    user_data = data[data['reviewerID'] == reviewerID]\n",
    "    \n",
    "    # Check if the user has at least 5 ratings\n",
    "    if len(user_data) >= 5:\n",
    "        # Sample one observation for the test set\n",
    "        test_data = user_data.sample(1, random_state=RANDOM_STATE)\n",
    "        \n",
    "        # Use the remaining data for training\n",
    "        train_data = user_data.drop(test_data.index)\n",
    "\n",
    "        # For the single product in the testing set, use the training data to predict a rating\n",
    "        for _, test_row in test_data.iterrows():\n",
    "            rating_history_str = ', '.join([f\"{row['title']} ({row['rating']} stars): {row['reviewText']}\" for _, row in train_data.iterrows()])\n",
    "            predicted_rating = predict_rating_few_shot_with_review(test_row['title'], test_row['reviewText'], rating_history_str)\n",
    "            \n",
    "            predicted_ratings.append(predicted_rating)\n",
    "            actual_ratings.append(test_row['rating'])\n",
    "    \n",
    "    # Introduce a pause after processing every PAUSE_EVERY_N_USERS\n",
    "    if (idx + 1) % PAUSE_EVERY_N_USERS == 0:\n",
    "        print(f\"Processed {idx + 1} users. Pausing for {SLEEP_TIME} seconds...\")\n",
    "        time.sleep(SLEEP_TIME)\n",
    "\n",
    "# Save the predicted ratings to a new CSV file\n",
    "predicted_ratings_df = pd.DataFrame({\n",
    "    'few_shot_predicted_rating': predicted_ratings,\n",
    "    'actual_rating': actual_ratings\n",
    "})\n",
    "\n",
    "predicted_ratings_df.to_csv('../../data/amazon-beauty/reviewText_small_1_test_predictions_few_shot.csv', index=False)\n",
    "\n",
    "predicted_ratings_df.head(NUM_EXAMPLES)"
   ]
  },
  {
   "cell_type": "code",
   "execution_count": 15,
   "metadata": {},
   "outputs": [
    {
     "name": "stdout",
     "output_type": "stream",
     "text": [
      "Root Mean Squared Error (RMSE): 0.6324555320336759\n",
      "Mean Absolute Error (MAE): 0.4\n"
     ]
    }
   ],
   "source": [
    "small_predictions_few_shot = pd.read_csv('../../data/amazon-beauty/reviewText_small_1_test_predictions_few_shot.csv')\n",
    "small_predictions_few_shot.head(NUM_EXAMPLES)\n",
    "# convert few_shot_predicted_rating column to list\n",
    "predicted_ratings = small_predictions_few_shot['few_shot_predicted_rating'].tolist()\n",
    "# convert actual_rating column to list\n",
    "actual_ratings = small_predictions_few_shot['actual_rating'].tolist()\n",
    "filtered_list = [(actual, predicted) for actual, predicted in zip(actual_ratings, predicted_ratings) if predicted is not None]\n",
    "\n",
    "if not filtered_list:\n",
    "    print(\"No valid predictions available for evaluation.\")\n",
    "else:\n",
    "    actual_ratings_filtered, predicted_ratings_filtered = zip(*filtered_list)\n",
    "    # Evaluate the model's performance\n",
    "    rmse = np.sqrt(mean_squared_error(actual_ratings_filtered, predicted_ratings_filtered))\n",
    "    print(f'Root Mean Squared Error (RMSE): {rmse}')\n",
    "\n",
    "    mae = mean_absolute_error(actual_ratings_filtered, predicted_ratings_filtered)\n",
    "    print(f'Mean Absolute Error (MAE): {mae}')\n"
   ]
  },
  {
   "cell_type": "markdown",
   "metadata": {},
   "source": [
    "# Limitations:\n",
    "\n",
    "The model might not fully understand the nuanced relationships between products based on titles alone. Additional context or features might be needed for more accurate predictions.\n",
    "This approach might be computationally expensive and slower than traditional matrix factorization or deep learning-based recommendation models, especially for a small number of users.\n",
    "\n",
    "# References\n",
    "\n",
    "+ https://platform.openai.com/docs/api-reference/authentication"
   ]
  },
  {
   "cell_type": "markdown",
   "metadata": {},
   "source": []
  }
 ],
 "metadata": {
  "kernelspec": {
   "display_name": "Advanced_Programming_for_Data_Science",
   "language": "python",
   "name": "python3"
  },
  "language_info": {
   "codemirror_mode": {
    "name": "ipython",
    "version": 3
   },
   "file_extension": ".py",
   "mimetype": "text/x-python",
   "name": "python",
   "nbconvert_exporter": "python",
   "pygments_lexer": "ipython3",
   "version": "3.11.4"
  },
  "orig_nbformat": 4
 },
 "nbformat": 4,
 "nbformat_minor": 2
}
