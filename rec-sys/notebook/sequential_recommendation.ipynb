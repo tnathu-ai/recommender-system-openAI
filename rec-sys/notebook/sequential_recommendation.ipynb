{
 "cells": [
  {
   "cell_type": "code",
   "execution_count": 1,
   "metadata": {},
   "outputs": [
    {
     "name": "stdout",
     "output_type": "stream",
     "text": [
      "HR@5:  1\n",
      "HR@10:  1\n",
      "NDCG@5:  0.43067655807339306\n",
      "NDCG@10:  0.43067655807339306\n"
     ]
    }
   ],
   "source": [
    "import math\n",
    "\n",
    "def hit_ratio_at_k(predictions, ground_truth, k):\n",
    "    top_k_predictions = predictions[:k]\n",
    "    return int(ground_truth in top_k_predictions)\n",
    "\n",
    "def ndcg_at_k(predictions, ground_truth, k):\n",
    "    top_k_predictions = predictions[:k]\n",
    "\n",
    "    for i in range(len(top_k_predictions)):\n",
    "        if top_k_predictions[i] == ground_truth:\n",
    "            return 1 / math.log2(i + 2) # DCG@k\n",
    "\n",
    "    return 0  # if ground truth not in top_k_predictions\n",
    "\n",
    "# Test\n",
    "ground_truth = 'Revlon One-Step Hair Dryer And Volumizer Hot Air Brush, Black, Packaging May Vary'\n",
    "predictions = ['SHANY Nail Art Set (24 Famous Colors Nail Art Polish, Nail Art Decoration)', \n",
    "               'Hair Straightener, Flat Iron for Hair Styling, 2 in 1 Tourmaline Ceramic Flat Iron for All Hair Types with Rotating Adjustable Temperature and Salon High Heat 250℉-450℉, 1 Inch (Gold)', \n",
    "               'Morphe Pro 35 Color Eyeshadow Makeup Palette - GLAM (High Pigmented) 35B by Morphe Brushes', \n",
    "               'Revlon One-Step Hair Dryer And Volumizer Hot Air Brush, Black, Packaging May Vary', \n",
    "               'Crest 3D White Professional Effects Whitestrips 20 Treatments + Crest 3D White 1 Hour Express Whitestrips 2 Treatments - Teeth Whitening Kit', \n",
    "               'Bioderma Sensibio H2O Soothing Micellar Cleansing Water and Makeup Removing Solution for Sensitive Skin - Face and Eyes', \n",
    "               'COSRX Acne Pimple Master Patch (96 Patches) | A.D.F. Hydrocolloid Dressing | Quick & Easy Treatment', \n",
    "               'Anastasia Beverly Hills - Brow Wiz - Soft Brown', \n",
    "               'Maybelline Instant Age Rewind Eraser Dark Circles Treatment Multi-Use Concealer, Light, 0.2 Fl Oz (Pack of 1)', \n",
    "               'Neutrogena Hydro Boost Hyaluronic Acid Hydrating Gel-Cream Face Moisturizer to Hydrate & Smooth Extra-Dry Skin, Oil-Free, Fragrance-Free, Non-Comedogenic & Dye-Free Face Lotion']\n",
    "\n",
    "print(\"HR@5: \", hit_ratio_at_k(predictions, ground_truth, 5))\n",
    "print(\"HR@10: \", hit_ratio_at_k(predictions, ground_truth, 10))\n",
    "print(\"NDCG@5: \", ndcg_at_k(predictions, ground_truth, 5))\n",
    "print(\"NDCG@10: \", ndcg_at_k(predictions, ground_truth, 10))\n"
   ]
  },
  {
   "cell_type": "code",
   "execution_count": null,
   "metadata": {},
   "outputs": [],
   "source": []
  }
 ],
 "metadata": {
  "kernelspec": {
   "display_name": "Advanced_Programming_for_Data_Science",
   "language": "python",
   "name": "python3"
  },
  "language_info": {
   "codemirror_mode": {
    "name": "ipython",
    "version": 3
   },
   "file_extension": ".py",
   "mimetype": "text/x-python",
   "name": "python",
   "nbconvert_exporter": "python",
   "pygments_lexer": "ipython3",
   "version": "3.10.4"
  },
  "orig_nbformat": 4
 },
 "nbformat": 4,
 "nbformat_minor": 2
}
