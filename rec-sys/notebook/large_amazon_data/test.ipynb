{
 "cells": [
  {
   "cell_type": "code",
   "execution_count": 16,
   "metadata": {},
   "outputs": [
    {
     "name": "stdout",
     "output_type": "stream",
     "text": [
      "current directory: /Users/tnathu-ai/VSCode/recommender-system/recommender-system-openAI/rec-sys/data/amazon-beauty\n",
      "data path: /Users/tnathu-ai/VSCode/recommender-system/recommender-system-openAI/rec-sys/data/amazon-beauty/large_merged_data.csv\n"
     ]
    }
   ],
   "source": [
    "import numpy as np\n",
    "from sklearn.model_selection import train_test_split\n",
    "import sys\n",
    "import os\n",
    "import openai\n",
    "import pandas as pd\n",
    "\n",
    "# Add the path to the constants file to the system path\n",
    "sys.path.append('../../')\n",
    "from constants import *\n",
    "\n",
    "# OpenAI API Key\n",
    "openai.api_key = OPENAI_API_KEY\n",
    "\n",
    "# Get the current directory of the notebook\n",
    "current_dir = os.path.dirname(os.path.abspath(\"../../data/amazon-beauty/rating_prediction.ipynb\"))\n",
    "print(f\"current directory: {current_dir}\")\n",
    "# Construct the path to data file\n",
    "data_path = os.path.join(current_dir, 'large_merged_data.csv')\n",
    "print(f'data path: {data_path}')\n",
    "\n",
    "def split_data_by_rated_items(df, user_col, test_size, given_n, random_state=RANDOM_STATE):\n",
    "    \"\"\"\n",
    "    Splits the data into a training set and a test set. For each user in the test set, \n",
    "    it keeps only a given number of rated items.\n",
    "    \"\"\"\n",
    "    train_df, test_df = train_test_split(df, test_size=test_size, random_state=random_state, stratify=df[user_col])\n",
    "    test_df = test_df.groupby(user_col).apply(lambda x: x.sample(min(len(x), given_n), random_state=random_state))\n",
    "    return train_df, test_df.reset_index(drop=True)\n",
    "\n",
    "\n",
    "def split_data_by_user_percentage(df, user_col, percentages, random_state=None):\n",
    "    \"\"\"\n",
    "    Splits the data into different sets based on percentages of unique users.\n",
    "    \"\"\"\n",
    "    unique_users = df[user_col].unique()\n",
    "    np.random.seed(random_state)\n",
    "    np.random.shuffle(unique_users)\n",
    "    \n",
    "    total_users = len(unique_users)\n",
    "    slices = [int(p * total_users) for p in percentages]\n",
    "    \n",
    "    # Split the DataFrame into the different sets based on the user IDs\n",
    "    sets = [df[df[user_col].isin(unique_users[slices[i]:slices[i+1]])] for i in range(len(slices)-1)]\n",
    "\n",
    "    return sets\n",
    "\n",
    "\n",
    "def all_but_one(df, user_col, random_state=None):\n",
    "    \"\"\"\n",
    "    For each user, select one rating and split it into a separate DataFrame.\n",
    "    \"\"\"\n",
    "    test_df = df.groupby(user_col).sample(n=1, random_state=random_state)\n",
    "    train_df = df.drop(test_df.index)\n",
    "    return train_df, test_df\n"
   ]
  },
  {
   "cell_type": "code",
   "execution_count": 9,
   "metadata": {},
   "outputs": [
    {
     "name": "stdout",
     "output_type": "stream",
     "text": [
      "<class 'pandas.core.frame.DataFrame'>\n",
      "RangeIndex: 9767 entries, 0 to 9766\n",
      "Data columns (total 7 columns):\n",
      " #   Column      Non-Null Count  Dtype  \n",
      "---  ------      --------------  -----  \n",
      " 0   rating      9767 non-null   float64\n",
      " 1   reviewerID  9767 non-null   object \n",
      " 2   asin        9767 non-null   object \n",
      " 3   reviewText  9759 non-null   object \n",
      " 4   summary     9759 non-null   object \n",
      " 5   category    9767 non-null   object \n",
      " 6   title       9767 non-null   object \n",
      "dtypes: float64(1), object(6)\n",
      "memory usage: 534.3+ KB\n"
     ]
    },
    {
     "data": {
      "text/html": [
       "<div>\n",
       "<style scoped>\n",
       "    .dataframe tbody tr th:only-of-type {\n",
       "        vertical-align: middle;\n",
       "    }\n",
       "\n",
       "    .dataframe tbody tr th {\n",
       "        vertical-align: top;\n",
       "    }\n",
       "\n",
       "    .dataframe thead th {\n",
       "        text-align: right;\n",
       "    }\n",
       "</style>\n",
       "<table border=\"1\" class=\"dataframe\">\n",
       "  <thead>\n",
       "    <tr style=\"text-align: right;\">\n",
       "      <th></th>\n",
       "      <th>title</th>\n",
       "      <th>rating</th>\n",
       "      <th>reviewText</th>\n",
       "      <th>reviewerID</th>\n",
       "      <th>category</th>\n",
       "    </tr>\n",
       "  </thead>\n",
       "  <tbody>\n",
       "    <tr>\n",
       "      <th>0</th>\n",
       "      <td>Jenna Jameson Heartbreaker Perfume for women 3...</td>\n",
       "      <td>1.0</td>\n",
       "      <td>I use a lot of perfume, I go through a new bot...</td>\n",
       "      <td>A2RYSCZOPEXOCQ</td>\n",
       "      <td>[]</td>\n",
       "    </tr>\n",
       "    <tr>\n",
       "      <th>1</th>\n",
       "      <td>Norelco 6885XL Deluxe Quadra Action Cord/Cordl...</td>\n",
       "      <td>5.0</td>\n",
       "      <td>First, a little background.  I've switched bet...</td>\n",
       "      <td>A141OPVE376YFI</td>\n",
       "      <td>[]</td>\n",
       "    </tr>\n",
       "    <tr>\n",
       "      <th>2</th>\n",
       "      <td>Norelco 6885XL Deluxe Quadra Action Cord/Cordl...</td>\n",
       "      <td>5.0</td>\n",
       "      <td>First, a little background.  I've switched bet...</td>\n",
       "      <td>A141OPVE376YFI</td>\n",
       "      <td>[]</td>\n",
       "    </tr>\n",
       "  </tbody>\n",
       "</table>\n",
       "</div>"
      ],
      "text/plain": [
       "                                               title  rating  \\\n",
       "0  Jenna Jameson Heartbreaker Perfume for women 3...     1.0   \n",
       "1  Norelco 6885XL Deluxe Quadra Action Cord/Cordl...     5.0   \n",
       "2  Norelco 6885XL Deluxe Quadra Action Cord/Cordl...     5.0   \n",
       "\n",
       "                                          reviewText      reviewerID category  \n",
       "0  I use a lot of perfume, I go through a new bot...  A2RYSCZOPEXOCQ       []  \n",
       "1  First, a little background.  I've switched bet...  A141OPVE376YFI       []  \n",
       "2  First, a little background.  I've switched bet...  A141OPVE376YFI       []  "
      ]
     },
     "execution_count": 9,
     "metadata": {},
     "output_type": "execute_result"
    }
   ],
   "source": [
    "# Read the data\n",
    "amazon_data = pd.read_csv(data_path)\n",
    "# get sample data of NUM_SAMPLES rows\n",
    "amazon_data.info()\n",
    "# get neccessary columns\n",
    "df = amazon_data[['title', 'rating', 'reviewText', 'reviewerID', 'category']]\n",
    "df.head(3)\n"
   ]
  },
  {
   "cell_type": "code",
   "execution_count": 15,
   "metadata": {},
   "outputs": [
    {
     "name": "stdout",
     "output_type": "stream",
     "text": [
      "train_df_given_10: (7813, 5)\n",
      "test_df_given_10: (1954, 5)\n",
      "M5_pct_df: (488, 5)\n",
      "M10_pct_df: (960, 5)\n",
      "M40_pct_df: (3956, 5)\n",
      "test_df: (4363, 5)\n"
     ]
    }
   ],
   "source": [
    "# Importing the utility functions for data splitting\n",
    "# from utils import split_data_by_rated_items, split_data_by_user_percentage, all_but_one\n",
    "\n",
    "# Split data such that for each user in the test set, we only retain a given number of rated items.\n",
    "train_df_given_10, test_df_given_10 = split_data_by_rated_items(df, user_col='reviewerID', test_size=0.2, given_n=10, random_state=RANDOM_STATE)\n",
    "\n",
    "# Split data based on percentages of unique users.\n",
    "# Here, for example, 5% of users will be in the first set, next 10% in the second set, next 40% in the third set, and the rest in the test set.\n",
    "sets = split_data_by_user_percentage(df, user_col='reviewerID', percentages=[0, 0.05, 0.15, 0.55, 1], random_state=RANDOM_STATE)\n",
    "M5_pct_df, M10_pct_df, M40_pct_df, test_df = sets\n",
    "\n",
    "# Leave-one-out split.\n",
    "train_df, test_df_all_but_one = all_but_one(df, user_col='reviewerID', random_state=RANDOM_STATE)\n",
    "\n",
    "# Printing the shapes of the data splits\n",
    "print(f\"train_df_given_10: {train_df_given_10.shape}\")\n",
    "print(f\"test_df_given_10: {test_df_given_10.shape}\")\n",
    "\n",
    "print(f\"M5_pct_df: {M5_pct_df.shape}\")\n",
    "print(f\"M10_pct_df: {M10_pct_df.shape}\")\n",
    "print(f\"M40_pct_df: {M40_pct_df.shape}\")\n",
    "print(f\"test_df: {test_df.shape}\")\n"
   ]
  }
 ],
 "metadata": {
  "kernelspec": {
   "display_name": "test",
   "language": "python",
   "name": "python3"
  },
  "language_info": {
   "codemirror_mode": {
    "name": "ipython",
    "version": 3
   },
   "file_extension": ".py",
   "mimetype": "text/x-python",
   "name": "python",
   "nbconvert_exporter": "python",
   "pygments_lexer": "ipython3",
   "version": "3.11.4"
  },
  "orig_nbformat": 4
 },
 "nbformat": 4,
 "nbformat_minor": 2
}
