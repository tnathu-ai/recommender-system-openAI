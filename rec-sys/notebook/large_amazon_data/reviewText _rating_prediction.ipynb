{
 "cells": [
  {
   "cell_type": "code",
   "execution_count": 7,
   "metadata": {},
   "outputs": [
    {
     "name": "stdout",
     "output_type": "stream",
     "text": [
      "current directory: /Users/tnathu-ai/VSCode/recommender-system/recommender-system-openAI/rec-sys/data/amazon-beauty\n"
     ]
    }
   ],
   "source": [
    "import numpy as np\n",
    "import openai\n",
    "import pandas as pd\n",
    "import os\n",
    "from sklearn.metrics import mean_squared_error, mean_absolute_error\n",
    "import sys\n",
    "import re\n",
    "import time\n",
    "from tenacity import retry, wait_random_exponential, stop_after_attempt\n",
    "\n",
    "# Add the path to the constants file to the system path\n",
    "sys.path.append('../../')\n",
    "from constants import *\n",
    "from evaluation_utils import *\n",
    "from ChatCompletion_OpenAI_API import *\n",
    "\n",
    "# OpenAI API Key\n",
    "openai.api_key = OPENAI_API_KEY\n",
    "\n",
    "# Get the current directory of the notebook\n",
    "current_dir = os.path.dirname(os.path.abspath(\"../../data/amazon-beauty/rating_prediction.ipynb\"))\n",
    "print(f\"current directory: {current_dir}\")"
   ]
  },
  {
   "cell_type": "markdown",
   "metadata": {},
   "source": [
    "# RMSE & MAE evaluation metrics"
   ]
  },
  {
   "cell_type": "code",
   "execution_count": 8,
   "metadata": {},
   "outputs": [
    {
     "name": "stdout",
     "output_type": "stream",
     "text": [
      "RMSE:  1.0\n",
      "MAE:  1.0\n"
     ]
    }
   ],
   "source": [
    "# Test\n",
    "actual_ratings = [4, 4]  # Ground truth ratings\n",
    "predicted_ratings = [3, 5]  # Predicted ratings\n",
    "rmse, mae = calculate_rmse_and_mae(actual_ratings, predicted_ratings)\n",
    "print(\"RMSE: \", rmse)\n",
    "print(\"MAE: \", mae)\n"
   ]
  },
  {
   "cell_type": "markdown",
   "metadata": {},
   "source": [
    "# Data Overview"
   ]
  },
  {
   "cell_type": "code",
   "execution_count": 9,
   "metadata": {},
   "outputs": [
    {
     "name": "stdout",
     "output_type": "stream",
     "text": [
      "data path: /Users/tnathu-ai/VSCode/recommender-system/recommender-system-openAI/rec-sys/data/amazon-beauty/large_merged_data.csv\n"
     ]
    }
   ],
   "source": [
    "# Construct the path to data file\n",
    "data_path = os.path.join(current_dir, 'large_merged_data.csv')\n",
    "print(f'data path: {data_path}')"
   ]
  },
  {
   "cell_type": "code",
   "execution_count": 10,
   "metadata": {},
   "outputs": [
    {
     "name": "stdout",
     "output_type": "stream",
     "text": [
      "<class 'pandas.core.frame.DataFrame'>\n",
      "RangeIndex: 9767 entries, 0 to 9766\n",
      "Data columns (total 7 columns):\n",
      " #   Column      Non-Null Count  Dtype  \n",
      "---  ------      --------------  -----  \n",
      " 0   rating      9767 non-null   float64\n",
      " 1   reviewerID  9767 non-null   object \n",
      " 2   asin        9767 non-null   object \n",
      " 3   reviewText  9759 non-null   object \n",
      " 4   summary     9759 non-null   object \n",
      " 5   category    9767 non-null   object \n",
      " 6   title       9767 non-null   object \n",
      "dtypes: float64(1), object(6)\n",
      "memory usage: 534.3+ KB\n"
     ]
    },
    {
     "data": {
      "text/html": [
       "<div>\n",
       "<style scoped>\n",
       "    .dataframe tbody tr th:only-of-type {\n",
       "        vertical-align: middle;\n",
       "    }\n",
       "\n",
       "    .dataframe tbody tr th {\n",
       "        vertical-align: top;\n",
       "    }\n",
       "\n",
       "    .dataframe thead th {\n",
       "        text-align: right;\n",
       "    }\n",
       "</style>\n",
       "<table border=\"1\" class=\"dataframe\">\n",
       "  <thead>\n",
       "    <tr style=\"text-align: right;\">\n",
       "      <th></th>\n",
       "      <th>title</th>\n",
       "      <th>rating</th>\n",
       "      <th>reviewText</th>\n",
       "      <th>reviewerID</th>\n",
       "    </tr>\n",
       "  </thead>\n",
       "  <tbody>\n",
       "    <tr>\n",
       "      <th>0</th>\n",
       "      <td>Jenna Jameson Heartbreaker Perfume for women 3...</td>\n",
       "      <td>1.0</td>\n",
       "      <td>I use a lot of perfume, I go through a new bot...</td>\n",
       "      <td>A2RYSCZOPEXOCQ</td>\n",
       "    </tr>\n",
       "    <tr>\n",
       "      <th>1</th>\n",
       "      <td>Norelco 6885XL Deluxe Quadra Action Cord/Cordl...</td>\n",
       "      <td>5.0</td>\n",
       "      <td>First, a little background.  I've switched bet...</td>\n",
       "      <td>A141OPVE376YFI</td>\n",
       "    </tr>\n",
       "    <tr>\n",
       "      <th>2</th>\n",
       "      <td>Norelco 6885XL Deluxe Quadra Action Cord/Cordl...</td>\n",
       "      <td>5.0</td>\n",
       "      <td>First, a little background.  I've switched bet...</td>\n",
       "      <td>A141OPVE376YFI</td>\n",
       "    </tr>\n",
       "  </tbody>\n",
       "</table>\n",
       "</div>"
      ],
      "text/plain": [
       "                                               title  rating  \\\n",
       "0  Jenna Jameson Heartbreaker Perfume for women 3...     1.0   \n",
       "1  Norelco 6885XL Deluxe Quadra Action Cord/Cordl...     5.0   \n",
       "2  Norelco 6885XL Deluxe Quadra Action Cord/Cordl...     5.0   \n",
       "\n",
       "                                          reviewText      reviewerID  \n",
       "0  I use a lot of perfume, I go through a new bot...  A2RYSCZOPEXOCQ  \n",
       "1  First, a little background.  I've switched bet...  A141OPVE376YFI  \n",
       "2  First, a little background.  I've switched bet...  A141OPVE376YFI  "
      ]
     },
     "execution_count": 10,
     "metadata": {},
     "output_type": "execute_result"
    }
   ],
   "source": [
    "# Read the data\n",
    "data = pd.read_csv(data_path)\n",
    "# get sample data of NUM_SAMPLES rows\n",
    "data.info()\n",
    "# get neccessary columns\n",
    "data = data[['title', 'rating', 'reviewText', 'reviewerID']]\n",
    "data.head(3)\n"
   ]
  },
  {
   "cell_type": "markdown",
   "metadata": {},
   "source": [
    "# Zero-shot (OpenAI API)\n",
    "\n",
    "+ We used the ``.drop_duplicates()`` method to get unique pairs of \"title\" and \"reviewText\". The predictions are then based on both the title and the corresponding review text for each unique pair."
   ]
  },
  {
   "cell_type": "code",
   "execution_count": 12,
   "metadata": {},
   "outputs": [],
   "source": [
    "%%time\n",
    "\n",
    "# Function to predict rating using both title and reviewText\n",
    "def predict_rating_zero_shot_with_review(title, review):\n",
    "    return predict_rating_zero_shot_ChatCompletion(f\"{title}. {review}\")\n",
    "\n",
    "# Iterate through the dataset and predict ratings\n",
    "predicted_ratings = []\n",
    "unique_pairs = data[['title', 'reviewText']].drop_duplicates().values\n",
    "for idx, (title, review) in enumerate(unique_pairs):\n",
    "    predicted_rating = predict_rating_zero_shot_with_review(title, review)\n",
    "    print(f\"Predicted rating for {title}: {predicted_rating}\")\n",
    "    predicted_ratings.append(predicted_rating)\n",
    "    \n",
    "    # Pause every PAUSE_EVERY_N_USERS rows\n",
    "    if (idx + 1) % PAUSE_EVERY_N_USERS == 0:\n",
    "        print(f\"Pausing for {SLEEP_TIME} seconds...\")\n",
    "        time.sleep(SLEEP_TIME)\n",
    "\n",
    "# Create a DataFrame with titles, reviewText and predicted ratings\n",
    "predicted_ratings_df = pd.DataFrame({\n",
    "    'title': unique_pairs[:, 0],\n",
    "    'reviewText': unique_pairs[:, 1],\n",
    "    'zero_shot_predicted_rating': predicted_ratings\n",
    "})\n",
    "\n",
    "# Merge the predicted ratings with the original data\n",
    "merged_data_with_predictions = pd.merge(data, predicted_ratings_df, on=['title', 'reviewText'])\n",
    "\n",
    "# Save the merged data with predictions to a new CSV file\n",
    "merged_data_with_predictions.to_csv('../../data/amazon-beauty/reviewText_large_predictions_zero_shot.csv', index=False)\n"
   ]
  },
  {
   "cell_type": "code",
   "execution_count": null,
   "metadata": {},
   "outputs": [],
   "source": [
    "# evaluate the rating prediction model\n",
    "\n",
    "product_titles = merged_data_with_predictions['title']\n",
    "actual_ratings = merged_data_with_predictions['rating']\n",
    "\n",
    "# Remove None predictions if any\n",
    "actual_ratings_filtered, predicted_ratings_filtered = zip(*[(actual, predicted) for actual, predicted in zip(actual_ratings, predicted_ratings) if predicted is not None])\n",
    "\n",
    "# Calculate RMSE\n",
    "rmse = np.sqrt(mean_squared_error(actual_ratings_filtered, predicted_ratings_filtered))\n",
    "print(f'Root Mean Squared Error (RMSE): {rmse}')\n",
    "\n",
    "# Calculate MAE\n",
    "mae = mean_absolute_error(actual_ratings_filtered, predicted_ratings_filtered)\n",
    "print(f'Mean Absolute Error (MAE): {mae}')\n"
   ]
  },
  {
   "cell_type": "markdown",
   "metadata": {},
   "source": [
    "# Few-shot (OpenAI API)\n",
    "\n",
    "\n",
    "+ For each user, we'll use 4 of their ratings as training data to predict ratings for the rest of their products. Finally, we'll evaluate the predictions against the actual ratings to calculate the overall RMSE and MAE.\n",
    "\n",
    "+ The rating_history_str now includes both the title and the review text for each of the training data rows"
   ]
  },
  {
   "cell_type": "code",
   "execution_count": null,
   "metadata": {},
   "outputs": [],
   "source": [
    "%%time\n",
    "\n",
    "# Function to predict rating using both title and reviewText with user's rating history\n",
    "def predict_rating_few_shot_with_review(title, review, rating_history_str):\n",
    "    return predict_rating_few_shot_ChatCompletion(f\"{title}. {review}\", rating_history_str)\n",
    "\n",
    "predicted_ratings = []\n",
    "actual_ratings = []\n",
    "\n",
    "# For each user in the dataset\n",
    "users = data['reviewerID'].unique()\n",
    "for idx, reviewerID in enumerate(users):\n",
    "    user_data = data[data['reviewerID'] == reviewerID]\n",
    "    \n",
    "    # Check if the user has at least 5 ratings\n",
    "    if len(user_data) >= 5:\n",
    "        train_data = user_data.sample(4, random_state=RANDOM_STATE)\n",
    "        test_data = user_data.drop(train_data.index)\n",
    "\n",
    "        # For each product in the testing set, use the training data to predict a rating\n",
    "        for _, test_row in test_data.iterrows():\n",
    "            rating_history_str = ', '.join([f\"{row['title']} ({row['rating']} stars): {row['reviewText']}\" for _, row in train_data.iterrows()])\n",
    "            predicted_rating = predict_rating_few_shot_with_review(test_row['title'], test_row['reviewText'], rating_history_str)\n",
    "            \n",
    "            predicted_ratings.append(predicted_rating)\n",
    "            actual_ratings.append(test_row['rating'])\n",
    "    \n",
    "    # Introduce a pause after processing every PAUSE_EVERY_N_USERS\n",
    "    if (idx + 1) % PAUSE_EVERY_N_USERS == 0:\n",
    "        print(f\"Processed {idx + 1} users. Pausing for {SLEEP_TIME} seconds...\")\n",
    "        time.sleep(SLEEP_TIME)\n",
    "\n",
    "# Save the predicted ratings to a new CSV file\n",
    "predicted_ratings_df = pd.DataFrame({\n",
    "    'few_shot_predicted_rating': predicted_ratings,\n",
    "    'actual_rating': actual_ratings\n",
    "})\n",
    "predicted_ratings_df.to_csv('../../data/amazon-beauty/reviewText_large_predictions_few_shot.csv', index=False)\n",
    "\n",
    "predicted_ratings_df.head(3)\n"
   ]
  },
  {
   "cell_type": "code",
   "execution_count": null,
   "metadata": {},
   "outputs": [],
   "source": [
    "# load data from ../../data/amazon-beauty/large_predictions_few_shot.csv file\n",
    "large_predictions_few_shot = pd.read_csv('../../data/amazon-beauty/reviewText_large_predictions_few_shot.csv')\n",
    "large_predictions_few_shot.head(NUM_EXAMPLES)"
   ]
  },
  {
   "cell_type": "code",
   "execution_count": null,
   "metadata": {},
   "outputs": [],
   "source": [
    "# convert few_shot_predicted_rating column to list\n",
    "predicted_ratings = large_predictions_few_shot['few_shot_predicted_rating'].tolist()\n",
    "# convert actual_rating column to list\n",
    "actual_ratings = large_predictions_few_shot['actual_rating'].tolist()\n",
    "filtered_list = [(actual, predicted) for actual, predicted in zip(actual_ratings, predicted_ratings) if predicted is not None]\n",
    "\n",
    "if not filtered_list:\n",
    "    print(\"No valid predictions available for evaluation.\")\n",
    "else:\n",
    "    actual_ratings_filtered, predicted_ratings_filtered = zip(*filtered_list)\n",
    "    # Evaluate the model's performance\n",
    "    rmse = np.sqrt(mean_squared_error(actual_ratings_filtered, predicted_ratings_filtered))\n",
    "    print(f'Root Mean Squared Error (RMSE): {rmse}')\n",
    "\n",
    "    mae = mean_absolute_error(actual_ratings_filtered, predicted_ratings_filtered)\n",
    "    print(f'Mean Absolute Error (MAE): {mae}')\n"
   ]
  },
  {
   "cell_type": "markdown",
   "metadata": {},
   "source": [
    "# 1 observation per reviewer - Few-shot OpenAI"
   ]
  },
  {
   "cell_type": "code",
   "execution_count": null,
   "metadata": {},
   "outputs": [],
   "source": [
    "%%time\n",
    "\n",
    "# Function to predict rating using both title and reviewText with user's rating history\n",
    "def predict_rating_few_shot_with_review(title, review, rating_history_str):\n",
    "    return predict_rating_few_shot_ChatCompletion(f\"{title}. {review}\", rating_history_str)\n",
    "\n",
    "\n",
    "predicted_ratings = []\n",
    "actual_ratings = []\n",
    "\n",
    "# For each user in the dataset\n",
    "users = data['reviewerID'].unique()\n",
    "for idx, reviewerID in enumerate(users):\n",
    "    user_data = data[data['reviewerID'] == reviewerID]\n",
    "    \n",
    "    # Check if the user has at least 5 ratings\n",
    "    if len(user_data) >= 5:\n",
    "        # Sample one observation for the test set\n",
    "        test_data = user_data.sample(1, random_state=RANDOM_STATE)\n",
    "        \n",
    "        # Use the remaining data for training\n",
    "        train_data = user_data.drop(test_data.index)\n",
    "\n",
    "        # For the single product in the testing set, use the training data to predict a rating\n",
    "        for _, test_row in test_data.iterrows():\n",
    "            rating_history_str = ', '.join([f\"{row['title']} ({row['rating']} stars): {row['reviewText']}\" for _, row in train_data.iterrows()])\n",
    "            predicted_rating = predict_rating_few_shot_with_review(test_row['title'], test_row['reviewText'], rating_history_str)\n",
    "            \n",
    "            predicted_ratings.append(predicted_rating)\n",
    "            actual_ratings.append(test_row['rating'])\n",
    "    \n",
    "    # Introduce a pause after processing every PAUSE_EVERY_N_USERS\n",
    "    if (idx + 1) % PAUSE_EVERY_N_USERS == 0:\n",
    "        print(f\"Processed {idx + 1} users. Pausing for {SLEEP_TIME} seconds...\")\n",
    "        time.sleep(SLEEP_TIME)\n",
    "\n",
    "# Save the predicted ratings to a new CSV file\n",
    "predicted_ratings_df = pd.DataFrame({\n",
    "    'few_shot_predicted_rating': predicted_ratings,\n",
    "    'actual_rating': actual_ratings\n",
    "})\n",
    "\n",
    "predicted_ratings_df.to_csv('../../data/amazon-beauty/reviewText_large_1_test_predictions_few_shot.csv', index=False)\n",
    "\n",
    "predicted_ratings_df.head(NUM_EXAMPLES)"
   ]
  },
  {
   "cell_type": "code",
   "execution_count": null,
   "metadata": {},
   "outputs": [],
   "source": [
    "large_predictions_few_shot = pd.read_csv('../../data/amazon-beauty/reviewText_large_1_test_predictions_few_shot.csv')\n",
    "large_predictions_few_shot.head(NUM_EXAMPLES)\n",
    "# convert few_shot_predicted_rating column to list\n",
    "predicted_ratings = large_predictions_few_shot['few_shot_predicted_rating'].tolist()\n",
    "# convert actual_rating column to list\n",
    "actual_ratings = large_predictions_few_shot['actual_rating'].tolist()\n",
    "filtered_list = [(actual, predicted) for actual, predicted in zip(actual_ratings, predicted_ratings) if predicted is not None]\n",
    "\n",
    "if not filtered_list:\n",
    "    print(\"No valid predictions available for evaluation.\")\n",
    "else:\n",
    "    actual_ratings_filtered, predicted_ratings_filtered = zip(*filtered_list)\n",
    "    # Evaluate the model's performance\n",
    "    rmse = np.sqrt(mean_squared_error(actual_ratings_filtered, predicted_ratings_filtered))\n",
    "    print(f'Root Mean Squared Error (RMSE): {rmse}')\n",
    "\n",
    "    mae = mean_absolute_error(actual_ratings_filtered, predicted_ratings_filtered)\n",
    "    print(f'Mean Absolute Error (MAE): {mae}')\n"
   ]
  },
  {
   "cell_type": "markdown",
   "metadata": {},
   "source": [
    "# Limitations:\n",
    "\n",
    "The model might not fully understand the nuanced relationships between products based on titles alone. Additional context or features might be needed for more accurate predictions.\n",
    "This approach might be computationally expensive and slower than traditional matrix factorization or deep learning-based recommendation models, especially for a large number of users.\n",
    "\n",
    "# References\n",
    "\n",
    "+ https://platform.openai.com/docs/api-reference/authentication"
   ]
  },
  {
   "cell_type": "markdown",
   "metadata": {},
   "source": []
  }
 ],
 "metadata": {
  "kernelspec": {
   "display_name": "Advanced_Programming_for_Data_Science",
   "language": "python",
   "name": "python3"
  },
  "language_info": {
   "codemirror_mode": {
    "name": "ipython",
    "version": 3
   },
   "file_extension": ".py",
   "mimetype": "text/x-python",
   "name": "python",
   "nbconvert_exporter": "python",
   "pygments_lexer": "ipython3",
   "version": "3.11.4"
  },
  "orig_nbformat": 4
 },
 "nbformat": 4,
 "nbformat_minor": 2
}
