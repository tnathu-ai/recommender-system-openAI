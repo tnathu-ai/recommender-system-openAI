{
 "cells": [
  {
   "attachments": {},
   "cell_type": "markdown",
   "metadata": {},
   "source": [
    "# Unit test writing using a multi-step prompt\n",
    "\n",
    "+ **Numeric Rating Test:** Checks if the function can handle numeric ratings.\n",
    "+ **Empty Dataframe Test:** Checks how the function behaves with an empty dataframe.\n",
    "+ **None Input Test:** Checks how the function behaves when the title is None.\n",
    "+ **Special Characters Test:** Checks how the function behaves when the title contains special characters.\n"
   ]
  },
  {
   "cell_type": "code",
   "execution_count": 17,
   "metadata": {},
   "outputs": [],
   "source": [
    "import pandas as pd\n",
    "import pytest\n",
    "import sys\n",
    "import os\n",
    "\n",
    "# Add the path to the constants file to the system path\n",
    "sys.path.append('../')\n",
    "from ChatCompletion_OpenAI_API import predict_rating_zero_shot_ChatCompletion"
   ]
  },
  {
   "cell_type": "code",
   "execution_count": 23,
   "metadata": {},
   "outputs": [],
   "source": [
    "\n",
    "data = {\n",
    "    'title': ['Product A', 'Product B', 'Product A'],\n",
    "    'rating': [5, 4, 5]\n",
    "}\n",
    "df = pd.DataFrame(data)\n",
    "\n",
    "def test_zero_shot_predict():\n",
    "    # Test when title exists in the data\n",
    "    assert predict_rating_zero_shot_ChatCompletion('Product A', df) == 5  # the average of [5, 5] is 5\n",
    "    \n",
    "    # Test when title doesn't exist\n",
    "    assert predict_rating_zero_shot_ChatCompletion('Product C', df) is None  # or whatever your function returns in this case\n",
    "\n",
    "    # Test with different types of titles\n",
    "    assert predict_rating_zero_shot_ChatCompletion('product a', df) is None  # assuming it's case-sensitive\n",
    "\n",
    "    # Test with numeric rating\n",
    "    assert predict_rating_zero_shot_ChatCompletion('Product D', df) == 3  # the average of [3] is 3\n",
    "    \n",
    "    # Test with an empty dataframe\n",
    "    empty_df = pd.DataFrame(columns=['title', 'rating'])\n",
    "    assert predict_rating_zero_shot_ChatCompletion('Product A', empty_df) is None  # or whatever your function returns in this case\n",
    "\n",
    "    # Test with None as input for title\n",
    "    assert predict_rating_zero_shot_ChatCompletion(None, df) is None  # or whatever your function returns in this case\n",
    "\n",
    "    # Test with special characters in title\n",
    "    special_data = {\n",
    "        'title': ['!Product A', '#Product B', '@Product A'],\n",
    "        'rating': [1, 2, 1]\n",
    "    }\n",
    "    # special_df = pd.DataFrame(special_data)\n",
    "    assert predict_rating_zero_shot_ChatCompletion('!Product A', special_data) == 1  # the average of [1, 1] is 1\n",
    "\n",
    "# Test\n",
    "test_zero_shot_predict()\n"
   ]
  },
  {
   "cell_type": "code",
   "execution_count": null,
   "metadata": {},
   "outputs": [],
   "source": []
  }
 ],
 "metadata": {
  "kernelspec": {
   "display_name": "Python 3.9.9 ('openai')",
   "language": "python",
   "name": "python3"
  },
  "language_info": {
   "codemirror_mode": {
    "name": "ipython",
    "version": 3
   },
   "file_extension": ".py",
   "mimetype": "text/x-python",
   "name": "python",
   "nbconvert_exporter": "python",
   "pygments_lexer": "ipython3",
   "version": "3.11.4"
  },
  "orig_nbformat": 4,
  "vscode": {
   "interpreter": {
    "hash": "365536dcbde60510dc9073d6b991cd35db2d9bac356a11f5b64279a5e6708b97"
   }
  }
 },
 "nbformat": 4,
 "nbformat_minor": 2
}
